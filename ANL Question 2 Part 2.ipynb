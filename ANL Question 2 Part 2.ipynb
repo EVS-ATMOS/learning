{
 "cells": [
  {
   "cell_type": "code",
   "execution_count": 3,
   "metadata": {
    "collapsed": false
   },
   "outputs": [
    {
     "name": "stdout",
     "output_type": "stream",
     "text": [
      "1.6.0\n"
     ]
    }
   ],
   "source": [
    "import pyart\n",
    "from matplotlib import pyplot as plt\n",
    "%matplotlib inline\n",
    "import numpy as np\n",
    "print(pyart.__version__)\n",
    "radar = pyart.io.read('./Downloads/KLOT20130417_235520_V06.gz')"
   ]
  },
  {
   "cell_type": "code",
   "execution_count": 4,
   "metadata": {
    "collapsed": false
   },
   "outputs": [
    {
     "name": "stdout",
     "output_type": "stream",
     "text": [
      "dict_keys(['differential_phase', 'differential_reflectivity', 'reflectivity', 'spectrum_width', 'velocity', 'cross_correlation_ratio'])\n"
     ]
    }
   ],
   "source": [
    "print(radar.fields.keys())"
   ]
  },
  {
   "cell_type": "code",
   "execution_count": 8,
   "metadata": {
    "collapsed": false
   },
   "outputs": [
    {
     "data": {
      "text/plain": [
       "['__class__',\n",
       " '__delattr__',\n",
       " '__dict__',\n",
       " '__dir__',\n",
       " '__doc__',\n",
       " '__eq__',\n",
       " '__format__',\n",
       " '__ge__',\n",
       " '__getattribute__',\n",
       " '__gt__',\n",
       " '__hash__',\n",
       " '__init__',\n",
       " '__le__',\n",
       " '__lt__',\n",
       " '__module__',\n",
       " '__ne__',\n",
       " '__new__',\n",
       " '__reduce__',\n",
       " '__reduce_ex__',\n",
       " '__repr__',\n",
       " '__setattr__',\n",
       " '__sizeof__',\n",
       " '__str__',\n",
       " '__subclasshook__',\n",
       " '__weakref__',\n",
       " '_check_sweep_in_range',\n",
       " '_dic_info',\n",
       " 'add_field',\n",
       " 'add_field_like',\n",
       " 'altitude',\n",
       " 'altitude_agl',\n",
       " 'antenna_transition',\n",
       " 'azimuth',\n",
       " 'check_field_exists',\n",
       " 'drift',\n",
       " 'elevation',\n",
       " 'extract_sweeps',\n",
       " 'fields',\n",
       " 'fixed_angle',\n",
       " 'gate_altitude',\n",
       " 'gate_latitude',\n",
       " 'gate_longitude',\n",
       " 'gate_x',\n",
       " 'gate_y',\n",
       " 'gate_z',\n",
       " 'georefs_applied',\n",
       " 'get_azimuth',\n",
       " 'get_elevation',\n",
       " 'get_end',\n",
       " 'get_field',\n",
       " 'get_gate_x_y_z',\n",
       " 'get_nyquist_vel',\n",
       " 'get_slice',\n",
       " 'get_start',\n",
       " 'get_start_end',\n",
       " 'heading',\n",
       " 'info',\n",
       " 'init_gate_altitude',\n",
       " 'init_gate_longitude_latitude',\n",
       " 'init_gate_x_y_z',\n",
       " 'init_rays_per_sweep',\n",
       " 'instrument_parameters',\n",
       " 'iter_azimuth',\n",
       " 'iter_elevation',\n",
       " 'iter_end',\n",
       " 'iter_field',\n",
       " 'iter_slice',\n",
       " 'iter_start',\n",
       " 'iter_start_end',\n",
       " 'latitude',\n",
       " 'longitude',\n",
       " 'metadata',\n",
       " 'ngates',\n",
       " 'nrays',\n",
       " 'nsweeps',\n",
       " 'pitch',\n",
       " 'projection',\n",
       " 'radar_calibration',\n",
       " 'range',\n",
       " 'ray_angle_res',\n",
       " 'rays_are_indexed',\n",
       " 'rays_per_sweep',\n",
       " 'roll',\n",
       " 'rotation',\n",
       " 'scan_rate',\n",
       " 'scan_type',\n",
       " 'sweep_end_ray_index',\n",
       " 'sweep_mode',\n",
       " 'sweep_number',\n",
       " 'sweep_start_ray_index',\n",
       " 'target_scan_rate',\n",
       " 'tilt',\n",
       " 'time']"
      ]
     },
     "execution_count": 8,
     "metadata": {},
     "output_type": "execute_result"
    }
   ],
   "source": [
    "dir(radar)"
   ]
  },
  {
   "cell_type": "code",
   "execution_count": 9,
   "metadata": {
    "collapsed": true
   },
   "outputs": [],
   "source": [
    "pyart.io.write_cfradial('converted_sigmet_file.nc', radar)"
   ]
  },
  {
   "cell_type": "code",
   "execution_count": 6,
   "metadata": {
    "collapsed": false
   },
   "outputs": [
    {
     "name": "stderr",
     "output_type": "stream",
     "text": [
      "C:\\Users\\Andrew\\Anaconda3\\lib\\site-packages\\IPython\\core\\formatters.py:92: DeprecationWarning: DisplayFormatter._ipython_display_formatter_default is deprecated: use @default decorator instead.\n",
      "  def _ipython_display_formatter_default(self):\n",
      "C:\\Users\\Andrew\\Anaconda3\\lib\\site-packages\\IPython\\core\\formatters.py:669: DeprecationWarning: PlainTextFormatter._singleton_printers_default is deprecated: use @default decorator instead.\n",
      "  def _singleton_printers_default(self):\n"
     ]
    },
    {
     "data": {
      "text/plain": [
       "<matplotlib.axes._subplots.AxesSubplot at 0x1cddf27d6d8>"
      ]
     },
     "execution_count": 6,
     "metadata": {},
     "output_type": "execute_result"
    },
    {
     "data": {
      "image/png": "[encoded data removed]",
      "text/plain": [
       "<matplotlib.figure.Figure at 0x1cddf27d860>"
      ]
     },
     "metadata": {},
     "output_type": "display_data"
    }
   ],
   "source": [
    "display = pyart.graph.RadarMapDisplay(radar)\n",
    "f = plt.figure(figsize = [17,4])\n",
    "plt.subplot(1, 3, 1) "
   ]
  },
  {
   "cell_type": "code",
   "execution_count": 17,
   "metadata": {
    "collapsed": true
   },
   "outputs": [],
   "source": [
    "display = pyart.graph.RadarMapDisplay(radar)\n"
   ]
  },
  {
   "cell_type": "code",
   "execution_count": 28,
   "metadata": {
    "collapsed": true
   },
   "outputs": [],
   "source": [
    "radar = radar.extract_sweeps([0, 1])"
   ]
  },
  {
   "cell_type": "code",
   "execution_count": 23,
   "metadata": {
    "collapsed": true
   },
   "outputs": [],
   "source": [
    "pyart.io.write_cfradial('converted_sigmet_file.nc', radar)"
   ]
  },
  {
   "cell_type": "code",
   "execution_count": null,
   "metadata": {
    "collapsed": true
   },
   "outputs": [],
   "source": []
  }
 ],
 "metadata": {
  "kernelspec": {
   "display_name": "Python 3",
   "language": "python",
   "name": "python3"
  },
  "language_info": {
   "codemirror_mode": {
    "name": "ipython",
    "version": 3
   },
   "file_extension": ".py",
   "mimetype": "text/x-python",
   "name": "python",
   "nbconvert_exporter": "python",
   "pygments_lexer": "ipython3",
   "version": "3.5.1"
  }
 },
 "nbformat": 4,
 "nbformat_minor": 0
}
