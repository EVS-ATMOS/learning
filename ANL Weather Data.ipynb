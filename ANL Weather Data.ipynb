{
 "cells": [
  {
   "cell_type": "code",
   "execution_count": 66,
   "metadata": {
    "collapsed": false
   },
   "outputs": [
    {
     "name": "stdout",
     "output_type": "stream",
     "text": [
      "1.6.0\n",
      "b'The read487 program outputs data fields with the following labels:\\n\\nJDA      Ordinal day of year 1-366.\\nT_LST    End time of this 15 minute averaging interval, CST.\\nTaC_60m  Average air temperature at 60 m, deg C.\\nspd_60m  Average scalar-averaged wind speed at 60 m, m/s.\\nspdV60m  Average vector-aver'\n"
     ]
    }
   ],
   "source": [
    "from urllib import request\n",
    "import matplotlib\n",
    "from datetime import datetime\n",
    "from pytz import timezone\n",
    "matplotlib.rcParams['figure.figsize'] = [12.0, 9.0]\n",
    "import numpy as np\n",
    "print(pyart.__version__)\n",
    "import pyart\n",
    "from matplotlib import pyplot as plt\n",
    "%matplotlib inline\n",
    "import urllib.request\n",
    "with urllib.request.urlopen('http://www.atmos.anl.gov/ANLMET/format.txt') as f:\n",
    "    print(f.read(300))   "
   ]
  },
  {
   "cell_type": "code",
   "execution_count": 48,
   "metadata": {
    "collapsed": false
   },
   "outputs": [
    {
     "name": "stdout",
     "output_type": "stream",
     "text": [
      "The read487 program outputs data fields with the following labels:\n",
      "\n",
      "JDA      Ordinal day of year 1-3\n"
     ]
    }
   ],
   "source": [
    "with urllib.request.urlopen('http://www.atmos.anl.gov/ANLMET/format.txt') as f:\n",
    "    print(f.read(100).decode('utf-8'))"
   ]
  },
  {
   "cell_type": "code",
   "execution_count": 77,
   "metadata": {
    "collapsed": false
   },
   "outputs": [
    {
     "data": {
      "image/png": "[encoded data removed]",
      "text/plain": [
       "<matplotlib.figure.Figure at 0x2cb55585710>"
      ]
     },
     "metadata": {},
     "output_type": "display_data"
    }
   ],
   "source": [
    "fig, ax1 = plt.subplots()\n",
    "t = np.arange(0.01, 10.0, 0.01)\n",
    "s1 = np.exp(t)\n",
    "ax1.plot(t, s1, 'b-')\n",
    "ax1.set_xlabel('time (s)')\n",
    "ax1.set_ylabel('drybulb', color='b')\n",
    "for tl in ax1.get_yticklabels():\n",
    "    tl.set_color('b')\n",
    "\n",
    "\n",
    "ax2 = ax1.twinx()\n",
    "s2 = np.sin(2*np.pi*t)\n",
    "ax2.plot(t, s2, 'r-')\n",
    "ax2.set_ylabel('dew point', color='r')\n",
    "for tl in ax2.get_yticklabels():\n",
    "    tl.set_color('r')\n",
    "plt.show()"
   ]
  },
  {
   "cell_type": "code",
   "execution_count": 91,
   "metadata": {
    "collapsed": false
   },
   "outputs": [
    {
     "name": "stdout",
     "output_type": "stream",
     "text": [
      "2016-05-05 22:28:15 UTC+0000\n"
     ]
    }
   ],
   "source": [
    "date_str = \"2016-05-05 22:28:15\"\n",
    "datetime_obj = datetime.strptime(date_str, \"%Y-%m-%d %H:%M:%S\")\n",
    "datetime_obj_utc = datetime_obj.replace(tzinfo=timezone('UTC'))\n",
    "print(datetime_obj_utc.strftime(\"%Y-%m-%d %H:%M:%S %Z%z\"))"
   ]
  },
  {
   "cell_type": "code",
   "execution_count": 93,
   "metadata": {
    "collapsed": true
   },
   "outputs": [],
   "source": [
    "date_str = \"2016-05-28 22:28:15\"\n",
    "datetime_obj_naive = datetime.strptime(date_str, \"%Y-%m-%d %H:%M:%S\")"
   ]
  },
  {
   "cell_type": "code",
   "execution_count": 94,
   "metadata": {
    "collapsed": false
   },
   "outputs": [
    {
     "name": "stdout",
     "output_type": "stream",
     "text": [
      "2016-05-05 20:35:09 UTC+0000\n",
      "2016-05-05 13:35:09 PDT-0700\n",
      "2016-05-05 22:35:09 CEST+0200\n"
     ]
    }
   ],
   "source": [
    "from datetime import datetime\n",
    "from pytz import timezone\n",
    "fmt = \"%Y-%m-%d %H:%M:%S %Z%z\"\n",
    "\n",
    "now_utc = datetime.now(timezone('UTC'))\n",
    "print(now_utc.strftime(fmt))\n",
    "\n",
    "now_pacific = now_utc.astimezone(timezone('US/Pacific'))\n",
    "print(now_pacific.strftime(fmt))\n",
    "now_berlin = now_pacific.astimezone(timezone('Europe/Berlin'))\n",
    "print(now_berlin.strftime(fmt))"
   ]
  },
  {
   "cell_type": "code",
   "execution_count": 71,
   "metadata": {
    "collapsed": false
   },
   "outputs": [
    {
     "name": "stdout",
     "output_type": "stream",
     "text": [
      "586\n",
      "US/Alaska\n",
      "US/Aleutian\n",
      "US/Arizona\n",
      "US/Central\n",
      "US/East-Indiana\n",
      "US/Eastern\n",
      "US/Hawaii\n",
      "US/Indiana-Starke\n",
      "US/Michigan\n",
      "US/Mountain\n",
      "US/Pacific\n",
      "US/Pacific-New\n",
      "US/Samoa\n"
     ]
    }
   ],
   "source": [
    "from pytz import all_timezones\n",
    "\n",
    "print(len(all_timezones))\n",
    "for zone in all_timezones:\n",
    "    if 'US' in zone:\n",
    "        print(zone)"
   ]
  },
  {
   "cell_type": "code",
   "execution_count": 15,
   "metadata": {
    "collapsed": false
   },
   "outputs": [],
   "source": [
    "def download_stock_data(csv_url):\n",
    "    response =  request.urlopen(csv_url)\n",
    "    csv = response.read()\n",
    "    csv_str = str(csv)\n",
    "    lines = csv_str.split('\\\\n')\n",
    "    dest_url = 'anl.csv'\n",
    "    fx = open(dest_url, 'w')\n",
    "    for line in lines:\n",
    "        fx.write(line + '\\n')\n",
    "    fx.close()\n",
    "    \n",
    "download_stock_data(anl_url)"
   ]
  },
  {
   "cell_type": "code",
   "execution_count": 88,
   "metadata": {
    "collapsed": false,
    "scrolled": false
   },
   "outputs": [
    {
     "data": {
      "image/png": "[encoded data removed]",
      "text/plain": [
       "<matplotlib.figure.Figure at 0x2cb55573f60>"
      ]
     },
     "metadata": {},
     "output_type": "display_data"
    }
   ],
   "source": [
    "fig, ax1 = plt.subplots()\n",
    "t = np.arange(0.01, 10.0, 0.01)\n",
    "s1 = np.exp(t)\n",
    "ax1.plot(t, s1, 'b-')\n",
    "ax1.set_xlabel('time (s)')\n",
    "# Make the y-axis label and tick labels match the line color.\n",
    "ax1.set_ylabel('time', color='b')\n",
    "for tl in ax1.get_yticklabels():\n",
    "    tl.set_color('b')\n",
    "\n",
    "\n",
    "ax2 = ax1.twinx()\n",
    "s2 = np.sin(2*np.pi*t)\n",
    "ax2.plot(t, s2, 'r.')\n",
    "ax2.set_ylabel('date', color='r')\n",
    "for tl in ax2.get_yticklabels():\n",
    "    tl.set_color('r')\n",
    "plt.show()"
   ]
  },
  {
   "cell_type": "code",
   "execution_count": null,
   "metadata": {
    "collapsed": true
   },
   "outputs": [],
   "source": []
  },
  {
   "cell_type": "code",
   "execution_count": 50,
   "metadata": {
    "collapsed": true
   },
   "outputs": [],
   "source": [
    "import numpy as np\n",
    "csv_data = 'http://www.atmos.anl.gov/ANLMET/format.txt'"
   ]
  },
  {
   "cell_type": "code",
   "execution_count": 51,
   "metadata": {
    "collapsed": true
   },
   "outputs": [],
   "source": [
    "#### %matplotlib inlxine\n",
    "import matplotlib.pyplot as plt\n",
    "%matplotlib inline"
   ]
  },
  {
   "cell_type": "code",
   "execution_count": 52,
   "metadata": {
    "collapsed": false
   },
   "outputs": [
    {
     "data": {
      "text/plain": [
       "[<matplotlib.lines.Line2D at 0x2cb566475f8>]"
      ]
     },
     "execution_count": 52,
     "metadata": {},
     "output_type": "execute_result"
    },
    {
     "data": {
      "image/png": "[encoded data removed]",
      "text/plain": [
       "<matplotlib.figure.Figure at 0x2cb554b96d8>"
      ]
     },
     "metadata": {},
     "output_type": "display_data"
    }
   ],
   "source": [
    "plt.plot((17.14, 17.86, 18.67, 19.37, 19.94, 20.51, 20.46, 20.45, 20.68, 21.45, 22.10, 22.49, 22.60, 22.91, 23.40, 23.58, 24.03, 24.28, 24.71,\n",
    "         ))"
   ]
  },
  {
   "cell_type": "code",
   "execution_count": 60,
   "metadata": {
    "collapsed": false
   },
   "outputs": [
    {
     "data": {
      "text/plain": [
       "datetime.datetime(2016, 1, 16, 0, 0)"
      ]
     },
     "execution_count": 60,
     "metadata": {},
     "output_type": "execute_result"
    }
   ],
   "source": [
    "datetime.datetime.strptime('16Jan2016', '%d%b%Y')\n",
    "datetime.datetime(2016, 1, 16)"
   ]
  },
  {
   "cell_type": "code",
   "execution_count": 59,
   "metadata": {
    "collapsed": false
   },
   "outputs": [
    {
     "data": {
      "text/plain": [
       "datetime.datetime(2016, 1, 17, 0, 0)"
      ]
     },
     "execution_count": 59,
     "metadata": {},
     "output_type": "execute_result"
    }
   ],
   "source": [
    "datetime.datetime.strptime('16Jan2016', '%d%b%Y')\n",
    "datetime.datetime(2016, 1, 17)"
   ]
  },
  {
   "cell_type": "code",
   "execution_count": 61,
   "metadata": {
    "collapsed": false
   },
   "outputs": [
    {
     "data": {
      "text/plain": [
       "datetime.datetime(2016, 1, 18, 0, 0)"
      ]
     },
     "execution_count": 61,
     "metadata": {},
     "output_type": "execute_result"
    }
   ],
   "source": [
    "datetime.datetime.strptime('16Jan2016', '%d%b%Y')\n",
    "datetime.datetime(2016, 1, 18)"
   ]
  },
  {
   "cell_type": "code",
   "execution_count": 66,
   "metadata": {
    "collapsed": false
   },
   "outputs": [],
   "source": [
    "import matplotlib.pyplot as plt\n",
    "import datetime\n",
    "import numpy as np"
   ]
  },
  {
   "cell_type": "code",
   "execution_count": 67,
   "metadata": {
    "collapsed": true
   },
   "outputs": [],
   "source": [
    "x = np.array([datetime.datetime(2016, 1, 16, i, 0) for i in range(24)])\n",
    "y = np.random.randint(31, size=x.shape)"
   ]
  },
  {
   "cell_type": "code",
   "execution_count": 68,
   "metadata": {
    "collapsed": false
   },
   "outputs": [
    {
     "data": {
      "image/png": "[encoded data removed]",
      "text/plain": [
       "<matplotlib.figure.Figure at 0x26315db7710>"
      ]
     },
     "metadata": {},
     "output_type": "display_data"
    }
   ],
   "source": [
    "plt.plot(x,y)\n",
    "plt.show()"
   ]
  },
  {
   "cell_type": "code",
   "execution_count": null,
   "metadata": {
    "collapsed": true
   },
   "outputs": [],
   "source": []
  }
 ],
 "metadata": {
  "kernelspec": {
   "display_name": "Python 3",
   "language": "python",
   "name": "python3"
  },
  "language_info": {
   "codemirror_mode": {
    "name": "ipython",
    "version": 3
   },
   "file_extension": ".py",
   "mimetype": "text/x-python",
   "name": "python",
   "nbconvert_exporter": "python",
   "pygments_lexer": "ipython3",
   "version": "3.5.1"
  }
 },
 "nbformat": 4,
 "nbformat_minor": 0
}
