{
 "cells": [
  {
   "cell_type": "code",
   "execution_count": 1,
   "metadata": {
    "collapsed": false
   },
   "outputs": [
    {
     "name": "stderr",
     "output_type": "stream",
     "text": [
      "C:\\Users\\Andrew\\Anaconda3\\lib\\site-packages\\pyart\\map\\grid_mapper.py:40: DeprecationWarning: inspect.getargspec() is deprecated, use inspect.signature() instead\n",
      "  from .ball_tree import BallTree\n"
     ]
    }
   ],
   "source": [
    "#importing all the modules I'll need for this task\n",
    "import urllib\n",
    "import numpy as np\n",
    "%matplotlib inline\n",
    "from io import StringIO\n",
    "import urllib.request\n",
    "from urllib import request\n",
    "import matplotlib\n",
    "from io import StringIO\n",
    "from datetime import datetime, timedelta\n",
    "from pytz import timezone\n",
    "matplotlib.rcParams['figure.figsize'] = [12.0, 9.0] #put as separate cell\n",
    "import numpy as np\n",
    "import pyart\n",
    "from matplotlib import pyplot as plt\n",
    "%matplotlib inline\n",
    "import urllib.request \n",
    "import matplotlib.dates as mdates\n",
    "import datetime as dt"
   ]
  },
  {
   "cell_type": "code",
   "execution_count": 2,
   "metadata": {
    "collapsed": false
   },
   "outputs": [],
   "source": [
    "#Downloading the data into python\n",
    "\n",
    "import urllib.request\n",
    "radar = urllib.request.Request('http://www.atmos.anl.gov/ANLMET/anltower.48')\n",
    "data = urllib.request.urlopen(radar) \n",
    "my_data = np.recfromtxt(data, skip_header = 2)"
   ]
  },
  {
   "cell_type": "code",
   "execution_count": 3,
   "metadata": {
    "collapsed": false
   },
   "outputs": [
    {
     "name": "stdout",
     "output_type": "stream",
     "text": [
      "(193, 25)\n"
     ]
    }
   ],
   "source": [
    "print(my_data.shape)"
   ]
  },
  {
   "cell_type": "code",
   "execution_count": 4,
   "metadata": {
    "collapsed": false
   },
   "outputs": [],
   "source": [
    "#printing out the min and max dewpoint\n",
    "dewpoint = np.array(my_data[0:192, 9])\n",
    "dewpoint = dewpoint.astype(np.float64)\n",
    "dewpoint_max = np.amax(dewpoint)\n",
    "dewpoint_min = np.amin(dewpoint)"
   ]
  },
  {
   "cell_type": "code",
   "execution_count": 5,
   "metadata": {
    "collapsed": false
   },
   "outputs": [],
   "source": [
    "#same as above, but with drybulb temperature\n",
    "drybulb = np.array(my_data[0:192, 10])\n",
    "drybulb = drybulb.astype(np.float64)\n",
    "drybulb_max = np.amax(drybulb)\n",
    "drybulb_min = np.amin(drybulb)"
   ]
  },
  {
   "cell_type": "code",
   "execution_count": 6,
   "metadata": {
    "collapsed": false
   },
   "outputs": [
    {
     "name": "stdout",
     "output_type": "stream",
     "text": [
      "18.9\n"
     ]
    }
   ],
   "source": [
    "print(dewpoint_max)"
   ]
  },
  {
   "cell_type": "code",
   "execution_count": 7,
   "metadata": {
    "collapsed": false
   },
   "outputs": [
    {
     "name": "stdout",
     "output_type": "stream",
     "text": [
      "2.69\n"
     ]
    }
   ],
   "source": [
    "print(dewpoint_min)"
   ]
  },
  {
   "cell_type": "code",
   "execution_count": 8,
   "metadata": {
    "collapsed": false
   },
   "outputs": [
    {
     "name": "stdout",
     "output_type": "stream",
     "text": [
      "30.23\n"
     ]
    }
   ],
   "source": [
    "print(drybulb_max)"
   ]
  },
  {
   "cell_type": "code",
   "execution_count": 9,
   "metadata": {
    "collapsed": false
   },
   "outputs": [
    {
     "name": "stdout",
     "output_type": "stream",
     "text": [
      "15.2\n"
     ]
    }
   ],
   "source": [
    "print(drybulb_min)"
   ]
  },
  {
   "cell_type": "code",
   "execution_count": 10,
   "metadata": {
    "collapsed": false
   },
   "outputs": [
    {
     "name": "stdout",
     "output_type": "stream",
     "text": [
      "[ 144.  144.  144.  144.  144.  144.  144.  144.  144.  144.  144.  144.\n",
      "  144.  144.  144.  144.  144.  144.  144.  144.  144.  144.  144.  144.\n",
      "  144.  144.  144.  144.  144.  144.  144.  144.  144.  144.  144.  144.\n",
      "  144.  144.  144.  144.  144.  144.  144.  144.  144.  144.  145.  145.\n",
      "  145.  145.  145.  145.  145.  145.  145.  145.  145.  145.  145.  145.\n",
      "  145.  145.  145.  145.  145.  145.  145.  145.  145.  145.  145.  145.\n",
      "  145.  145.  145.  145.  145.  145.  145.  145.  145.  145.  145.  145.\n",
      "  145.  145.  145.  145.  145.  145.  145.  145.  145.  145.  145.  145.\n",
      "  145.  145.  145.  145.  145.  145.  145.  145.  145.  145.  145.  145.\n",
      "  145.  145.  145.  145.  145.  145.  145.  145.  145.  145.  145.  145.\n",
      "  145.  145.  145.  145.  145.  145.  145.  145.  145.  145.  145.  145.\n",
      "  145.  145.  145.  145.  145.  145.  145.  145.  145.  145.  146.  146.\n",
      "  146.  146.  146.  146.  146.  146.  146.  146.  146.  146.  146.  146.\n",
      "  146.  146.  146.  146.  146.  146.  146.  146.  146.  146.  146.  146.\n",
      "  146.  146.  146.  146.  146.  146.  146.  146.  146.  146.  146.  146.\n",
      "  146.  146.  146.  146.  146.  146.  146.  146.  146.  146.  146.  146.]\n"
     ]
    }
   ],
   "source": [
    "#print the date and time in this and the next cell to convert JDA into a datetime object\n",
    "date = my_data[0:192, 0]\n",
    "date = date.astype(np.float64)\n",
    "print(date)\n"
   ]
  },
  {
   "cell_type": "code",
   "execution_count": 11,
   "metadata": {
    "collapsed": false
   },
   "outputs": [
    {
     "name": "stdout",
     "output_type": "stream",
     "text": [
      "[b'12:30' b'12:45' b'13:00' b'13:15' b'13:30' b'13:45' b'14:00' b'14:15'\n",
      " b'14:30' b'14:45' b'15:00' b'15:15' b'15:30' b'15:45' b'16:00' b'16:15'\n",
      " b'16:30' b'16:45' b'17:00' b'17:15' b'17:30' b'17:45' b'18:00' b'18:15'\n",
      " b'18:30' b'18:45' b'19:00' b'19:15' b'19:30' b'19:45' b'20:00' b'20:15'\n",
      " b'20:30' b'20:45' b'21:00' b'21:15' b'21:30' b'21:45' b'22:00' b'22:15'\n",
      " b'22:30' b'22:45' b'23:00' b'23:15' b'23:30' b'23:45' b'00:00' b'00:15'\n",
      " b'00:30' b'00:45' b'01:00' b'01:15' b'01:30' b'01:45' b'02:00' b'02:15'\n",
      " b'02:30' b'02:45' b'03:00' b'03:15' b'03:30' b'03:45' b'04:00' b'04:15'\n",
      " b'04:30' b'04:45' b'05:00' b'05:15' b'05:30' b'05:45' b'06:00' b'06:15'\n",
      " b'06:30' b'06:45' b'07:00' b'07:15' b'07:30' b'07:45' b'08:00' b'08:15'\n",
      " b'08:30' b'08:45' b'09:00' b'09:15' b'09:30' b'09:45' b'10:00' b'10:15'\n",
      " b'10:30' b'10:45' b'11:00' b'11:15' b'11:30' b'11:45' b'12:00' b'12:15'\n",
      " b'12:30' b'12:45' b'13:00' b'13:15' b'13:30' b'13:45' b'14:00' b'14:15'\n",
      " b'14:30' b'14:45' b'15:00' b'15:15' b'15:30' b'15:45' b'16:00' b'16:15'\n",
      " b'16:30' b'16:45' b'17:00' b'17:15' b'17:30' b'17:45' b'18:00' b'18:15'\n",
      " b'18:30' b'18:45' b'19:00' b'19:15' b'19:30' b'19:45' b'20:00' b'20:15'\n",
      " b'20:30' b'20:45' b'21:00' b'21:15' b'21:30' b'21:45' b'22:00' b'22:15'\n",
      " b'22:30' b'22:45' b'23:00' b'23:15' b'23:30' b'23:45' b'00:00' b'00:15'\n",
      " b'00:30' b'00:45' b'01:00' b'01:15' b'01:30' b'01:45' b'02:00' b'02:15'\n",
      " b'02:30' b'02:45' b'03:00' b'03:15' b'03:30' b'03:45' b'04:00' b'04:15'\n",
      " b'04:30' b'04:45' b'05:00' b'05:15' b'05:30' b'05:45' b'06:00' b'06:15'\n",
      " b'06:30' b'06:45' b'07:00' b'07:15' b'07:30' b'07:45' b'08:00' b'08:15'\n",
      " b'08:30' b'08:45' b'09:00' b'09:15' b'09:30' b'09:45' b'10:00' b'10:15'\n",
      " b'10:30' b'10:45' b'11:00' b'11:15' b'11:30' b'11:45' b'12:00' b'12:15']\n"
     ]
    }
   ],
   "source": [
    "time = (my_data[0:192, 1])\n",
    "print(time)"
   ]
  },
  {
   "cell_type": "code",
   "execution_count": 12,
   "metadata": {
    "collapsed": false
   },
   "outputs": [
    {
     "name": "stdout",
     "output_type": "stream",
     "text": [
      "[  5.54   5.7    5.41   4.93   5.41   4.97   5.17   5.22   5.07   4.79\n",
      "   4.67   4.1    4.54   4.21   3.97   3.04   3.72   3.74   4.03   4.08\n",
      "   3.67   3.52   2.82   3.31   3.77   3.31   3.1    3.12   3.41   3.45\n",
      "   3.31   3.08   2.94   2.69   2.72   2.76   2.88   2.98   3.06   3.26\n",
      "   3.54   3.76   3.96   4.22   4.44   4.74   5.04   5.46   5.74   6.06\n",
      "   6.3    6.47   6.65   6.76   6.8    6.8    6.82   6.84   6.79   6.82\n",
      "   6.96   7.01   7.1    7.15   7.16   7.2    7.32   7.53   7.61   7.91\n",
      "   8.33   8.74   9.18   9.82  10.29  10.62  11.07  11.36  11.45  11.61\n",
      "  11.77  12.15  11.92  12.1   11.99  11.91  11.75  11.59  10.54   9.99\n",
      "  10.07  10.39  10.21   9.81   9.74   9.84   9.98   9.4    9.7    9.44\n",
      "   8.82   8.86   8.27   8.69   8.45   8.33   8.54   8.71   8.42   8.3\n",
      "   7.68   7.43   7.8    8.28   8.37   9.68   9.99  10.29  11.02  10.69\n",
      "  10.75  10.61  10.75  11.13  11.34  11.57  11.87  12.14  12.54  12.84\n",
      "  13.05  13.22  13.35  13.48  13.57  13.67  13.76  13.85  14.11  14.42\n",
      "  14.81  15.17  15.43  15.64  15.89  16.09  16.33  16.41  16.48  16.52\n",
      "  16.58  16.64  16.7   16.77  16.9   16.94  16.93  16.94  16.91  16.89\n",
      "  16.8   16.78  16.79  16.91  17.01  17.28  17.51  17.75  17.72  17.85\n",
      "  17.94  18.32  18.39  18.43  18.41  18.53  18.63  18.65  18.9   18.7   18.7\n",
      "  18.54  18.35  17.53  17.27  17.34  16.79  16.55  15.71  15.65  15.47\n",
      "  15.89]\n"
     ]
    }
   ],
   "source": [
    "#Printing dewpoint and drybulb data so I can plot the data\n",
    "dewpoint = (my_data[0:192, 9])\n",
    "dewpoint = dewpoint.astype(np.float64)\n",
    "dewpoint_max = np.amax(dewpoint)\n",
    "dewpoint_min = np.amin(dewpoint)\n",
    "print(dewpoint)\n",
    "\n"
   ]
  },
  {
   "cell_type": "code",
   "execution_count": 13,
   "metadata": {
    "collapsed": false
   },
   "outputs": [
    {
     "name": "stdout",
     "output_type": "stream",
     "text": [
      "[ 25.66  25.85  25.97  26.11  26.41  26.52  26.77  26.95  27.2   27.21\n",
      "  27.31  27.38  27.62  27.77  27.83  27.76  27.79  27.89  27.83  27.58\n",
      "  27.4   27.01  26.61  26.02  25.37  24.93  24.52  23.89  23.21  22.82\n",
      "  22.42  22.12  21.86  21.63  21.3   20.99  20.79  20.68  20.63  20.61\n",
      "  20.45  20.36  20.11  19.79  19.53  19.22  19.13  18.79  18.47  18.26\n",
      "  18.18  18.12  18.04  17.89  17.89  17.94  17.84  17.67  17.46  17.19\n",
      "  16.87  16.51  16.29  16.05  15.92  15.8   15.86  15.71  15.32  15.2\n",
      "  15.66  16.43  17.25  18.28  19.09  19.88  20.72  21.45  22.02  22.65\n",
      "  23.2   23.79  24.13  24.54  24.83  25.3   25.52  25.84  26.02  26.36\n",
      "  26.7   27.12  27.26  27.37  27.57  27.76  28.13  28.39  28.4   28.42\n",
      "  28.76  29.31  29.1   29.33  29.46  29.79  29.91  30.03  30.04  30.22\n",
      "  30.23  30.2   30.12  30.08  29.88  29.66  29.32  28.86  28.32  27.94\n",
      "  27.52  27.12  26.71  26.39  26.19  25.82  25.38  25.11  24.99  24.82\n",
      "  24.55  24.29  23.98  23.73  23.55  23.17  22.96  22.62  22.4   22.24\n",
      "  22.14  22.06  21.96  21.82  21.61  21.59  21.45  21.39  21.26  21.1\n",
      "  20.91  20.71  20.4   20.04  19.68  19.36  19.26  19.14  19.03  18.74\n",
      "  18.46  18.37  18.39  18.69  19.    19.4   19.62  20.36  20.89  21.43\n",
      "  21.95  22.48  21.95  21.64  21.55  22.13  22.74  22.88  23.39  23.66\n",
      "  23.88  24.41  24.82  24.98  25.31  25.77  26.16  26.52  26.64  27.16\n",
      "  27.49  27.96]\n"
     ]
    }
   ],
   "source": [
    "drybulb = (my_data[0:192, 10])\n",
    "drybulb = drybulb.astype(np.float64)\n",
    "drybulb_max = np.amax(drybulb)\n",
    "drybulb_min = np.amin(drybulb)\n",
    "print(drybulb)\n"
   ]
  },
  {
   "cell_type": "code",
   "execution_count": 14,
   "metadata": {
    "collapsed": false
   },
   "outputs": [
    {
     "name": "stdout",
     "output_type": "stream",
     "text": [
      "maximum dewpoint temperature = 18.900000\n",
      "minimum dewpoint temperature = 2.690000\n",
      "maximum drybulb temperature = 30.230000\n",
      "minimum dewpoint temperature = 2.690000\n"
     ]
    }
   ],
   "source": [
    "print('maximum dewpoint temperature = %f'%(dewpoint_max))\n",
    "print('minimum dewpoint temperature = %f'%(dewpoint_min))\n",
    "print('maximum drybulb temperature = %f'%(drybulb_max))\n",
    "print('minimum dewpoint temperature = %f'%(dewpoint_min))"
   ]
  },
  {
   "cell_type": "code",
   "execution_count": 15,
   "metadata": {
    "collapsed": false
   },
   "outputs": [
    {
     "name": "stderr",
     "output_type": "stream",
     "text": [
      "C:\\Users\\Andrew\\Anaconda3\\lib\\site-packages\\IPython\\core\\formatters.py:92: DeprecationWarning: DisplayFormatter._ipython_display_formatter_default is deprecated: use @default decorator instead.\n",
      "  def _ipython_display_formatter_default(self):\n",
      "C:\\Users\\Andrew\\Anaconda3\\lib\\site-packages\\IPython\\core\\formatters.py:669: DeprecationWarning: PlainTextFormatter._singleton_printers_default is deprecated: use @default decorator instead.\n",
      "  def _singleton_printers_default(self):\n"
     ]
    },
    {
     "data": {
      "text/plain": [
       "array([[b'144.0', b'12:30'],\n",
       "       [b'144.0', b'12:45'],\n",
       "       [b'144.0', b'13:00'],\n",
       "       [b'144.0', b'13:15'],\n",
       "       [b'144.0', b'13:30'],\n",
       "       [b'144.0', b'13:45'],\n",
       "       [b'144.0', b'14:00'],\n",
       "       [b'144.0', b'14:15'],\n",
       "       [b'144.0', b'14:30'],\n",
       "       [b'144.0', b'14:45'],\n",
       "       [b'144.0', b'15:00'],\n",
       "       [b'144.0', b'15:15'],\n",
       "       [b'144.0', b'15:30'],\n",
       "       [b'144.0', b'15:45'],\n",
       "       [b'144.0', b'16:00'],\n",
       "       [b'144.0', b'16:15'],\n",
       "       [b'144.0', b'16:30'],\n",
       "       [b'144.0', b'16:45'],\n",
       "       [b'144.0', b'17:00'],\n",
       "       [b'144.0', b'17:15'],\n",
       "       [b'144.0', b'17:30'],\n",
       "       [b'144.0', b'17:45'],\n",
       "       [b'144.0', b'18:00'],\n",
       "       [b'144.0', b'18:15'],\n",
       "       [b'144.0', b'18:30'],\n",
       "       [b'144.0', b'18:45'],\n",
       "       [b'144.0', b'19:00'],\n",
       "       [b'144.0', b'19:15'],\n",
       "       [b'144.0', b'19:30'],\n",
       "       [b'144.0', b'19:45'],\n",
       "       [b'144.0', b'20:00'],\n",
       "       [b'144.0', b'20:15'],\n",
       "       [b'144.0', b'20:30'],\n",
       "       [b'144.0', b'20:45'],\n",
       "       [b'144.0', b'21:00'],\n",
       "       [b'144.0', b'21:15'],\n",
       "       [b'144.0', b'21:30'],\n",
       "       [b'144.0', b'21:45'],\n",
       "       [b'144.0', b'22:00'],\n",
       "       [b'144.0', b'22:15'],\n",
       "       [b'144.0', b'22:30'],\n",
       "       [b'144.0', b'22:45'],\n",
       "       [b'144.0', b'23:00'],\n",
       "       [b'144.0', b'23:15'],\n",
       "       [b'144.0', b'23:30'],\n",
       "       [b'144.0', b'23:45'],\n",
       "       [b'145.0', b'00:00'],\n",
       "       [b'145.0', b'00:15'],\n",
       "       [b'145.0', b'00:30'],\n",
       "       [b'145.0', b'00:45'],\n",
       "       [b'145.0', b'01:00'],\n",
       "       [b'145.0', b'01:15'],\n",
       "       [b'145.0', b'01:30'],\n",
       "       [b'145.0', b'01:45'],\n",
       "       [b'145.0', b'02:00'],\n",
       "       [b'145.0', b'02:15'],\n",
       "       [b'145.0', b'02:30'],\n",
       "       [b'145.0', b'02:45'],\n",
       "       [b'145.0', b'03:00'],\n",
       "       [b'145.0', b'03:15'],\n",
       "       [b'145.0', b'03:30'],\n",
       "       [b'145.0', b'03:45'],\n",
       "       [b'145.0', b'04:00'],\n",
       "       [b'145.0', b'04:15'],\n",
       "       [b'145.0', b'04:30'],\n",
       "       [b'145.0', b'04:45'],\n",
       "       [b'145.0', b'05:00'],\n",
       "       [b'145.0', b'05:15'],\n",
       "       [b'145.0', b'05:30'],\n",
       "       [b'145.0', b'05:45'],\n",
       "       [b'145.0', b'06:00'],\n",
       "       [b'145.0', b'06:15'],\n",
       "       [b'145.0', b'06:30'],\n",
       "       [b'145.0', b'06:45'],\n",
       "       [b'145.0', b'07:00'],\n",
       "       [b'145.0', b'07:15'],\n",
       "       [b'145.0', b'07:30'],\n",
       "       [b'145.0', b'07:45'],\n",
       "       [b'145.0', b'08:00'],\n",
       "       [b'145.0', b'08:15'],\n",
       "       [b'145.0', b'08:30'],\n",
       "       [b'145.0', b'08:45'],\n",
       "       [b'145.0', b'09:00'],\n",
       "       [b'145.0', b'09:15'],\n",
       "       [b'145.0', b'09:30'],\n",
       "       [b'145.0', b'09:45'],\n",
       "       [b'145.0', b'10:00'],\n",
       "       [b'145.0', b'10:15'],\n",
       "       [b'145.0', b'10:30'],\n",
       "       [b'145.0', b'10:45'],\n",
       "       [b'145.0', b'11:00'],\n",
       "       [b'145.0', b'11:15'],\n",
       "       [b'145.0', b'11:30'],\n",
       "       [b'145.0', b'11:45'],\n",
       "       [b'145.0', b'12:00'],\n",
       "       [b'145.0', b'12:15'],\n",
       "       [b'145.0', b'12:30'],\n",
       "       [b'145.0', b'12:45'],\n",
       "       [b'145.0', b'13:00'],\n",
       "       [b'145.0', b'13:15'],\n",
       "       [b'145.0', b'13:30'],\n",
       "       [b'145.0', b'13:45'],\n",
       "       [b'145.0', b'14:00'],\n",
       "       [b'145.0', b'14:15'],\n",
       "       [b'145.0', b'14:30'],\n",
       "       [b'145.0', b'14:45'],\n",
       "       [b'145.0', b'15:00'],\n",
       "       [b'145.0', b'15:15'],\n",
       "       [b'145.0', b'15:30'],\n",
       "       [b'145.0', b'15:45'],\n",
       "       [b'145.0', b'16:00'],\n",
       "       [b'145.0', b'16:15'],\n",
       "       [b'145.0', b'16:30'],\n",
       "       [b'145.0', b'16:45'],\n",
       "       [b'145.0', b'17:00'],\n",
       "       [b'145.0', b'17:15'],\n",
       "       [b'145.0', b'17:30'],\n",
       "       [b'145.0', b'17:45'],\n",
       "       [b'145.0', b'18:00'],\n",
       "       [b'145.0', b'18:15'],\n",
       "       [b'145.0', b'18:30'],\n",
       "       [b'145.0', b'18:45'],\n",
       "       [b'145.0', b'19:00'],\n",
       "       [b'145.0', b'19:15'],\n",
       "       [b'145.0', b'19:30'],\n",
       "       [b'145.0', b'19:45'],\n",
       "       [b'145.0', b'20:00'],\n",
       "       [b'145.0', b'20:15'],\n",
       "       [b'145.0', b'20:30'],\n",
       "       [b'145.0', b'20:45'],\n",
       "       [b'145.0', b'21:00'],\n",
       "       [b'145.0', b'21:15'],\n",
       "       [b'145.0', b'21:30'],\n",
       "       [b'145.0', b'21:45'],\n",
       "       [b'145.0', b'22:00'],\n",
       "       [b'145.0', b'22:15'],\n",
       "       [b'145.0', b'22:30'],\n",
       "       [b'145.0', b'22:45'],\n",
       "       [b'145.0', b'23:00'],\n",
       "       [b'145.0', b'23:15'],\n",
       "       [b'145.0', b'23:30'],\n",
       "       [b'145.0', b'23:45'],\n",
       "       [b'146.0', b'00:00'],\n",
       "       [b'146.0', b'00:15'],\n",
       "       [b'146.0', b'00:30'],\n",
       "       [b'146.0', b'00:45'],\n",
       "       [b'146.0', b'01:00'],\n",
       "       [b'146.0', b'01:15'],\n",
       "       [b'146.0', b'01:30'],\n",
       "       [b'146.0', b'01:45'],\n",
       "       [b'146.0', b'02:00'],\n",
       "       [b'146.0', b'02:15'],\n",
       "       [b'146.0', b'02:30'],\n",
       "       [b'146.0', b'02:45'],\n",
       "       [b'146.0', b'03:00'],\n",
       "       [b'146.0', b'03:15'],\n",
       "       [b'146.0', b'03:30'],\n",
       "       [b'146.0', b'03:45'],\n",
       "       [b'146.0', b'04:00'],\n",
       "       [b'146.0', b'04:15'],\n",
       "       [b'146.0', b'04:30'],\n",
       "       [b'146.0', b'04:45'],\n",
       "       [b'146.0', b'05:00'],\n",
       "       [b'146.0', b'05:15'],\n",
       "       [b'146.0', b'05:30'],\n",
       "       [b'146.0', b'05:45'],\n",
       "       [b'146.0', b'06:00'],\n",
       "       [b'146.0', b'06:15'],\n",
       "       [b'146.0', b'06:30'],\n",
       "       [b'146.0', b'06:45'],\n",
       "       [b'146.0', b'07:00'],\n",
       "       [b'146.0', b'07:15'],\n",
       "       [b'146.0', b'07:30'],\n",
       "       [b'146.0', b'07:45'],\n",
       "       [b'146.0', b'08:00'],\n",
       "       [b'146.0', b'08:15'],\n",
       "       [b'146.0', b'08:30'],\n",
       "       [b'146.0', b'08:45'],\n",
       "       [b'146.0', b'09:00'],\n",
       "       [b'146.0', b'09:15'],\n",
       "       [b'146.0', b'09:30'],\n",
       "       [b'146.0', b'09:45'],\n",
       "       [b'146.0', b'10:00'],\n",
       "       [b'146.0', b'10:15'],\n",
       "       [b'146.0', b'10:30'],\n",
       "       [b'146.0', b'10:45'],\n",
       "       [b'146.0', b'11:00'],\n",
       "       [b'146.0', b'11:15'],\n",
       "       [b'146.0', b'11:30'],\n",
       "       [b'146.0', b'11:45'],\n",
       "       [b'146.0', b'12:00'],\n",
       "       [b'146.0', b'12:15']], \n",
       "      dtype='|S32')"
      ]
     },
     "execution_count": 15,
     "metadata": {},
     "output_type": "execute_result"
    }
   ],
   "source": [
    "combination = np.column_stack((date,time))\n",
    "combination = np.array(combination)\n",
    "combination"
   ]
  },
  {
   "cell_type": "code",
   "execution_count": 20,
   "metadata": {
    "collapsed": false,
    "scrolled": true
   },
   "outputs": [
    {
     "data": {
      "image/png": "[encoded data removed]",
      "text/plain": [
       "<matplotlib.figure.Figure at 0x1836ceebe48>"
      ]
     },
     "metadata": {},
     "output_type": "display_data"
    }
   ],
   "source": [
    "#plotting the drybulb and dewpoint and filling between the two with green \n",
    "fig, ax1 = plt.subplots()\n",
    "y1 = dewpoint\n",
    "ax1.plot(y1, 'b-')\n",
    "ax1.set_xlabel('Cell Number')\n",
    "ax1.set_ylabel('Dewpoint Temperature °C', color='b')\n",
    "for tl in ax1.get_yticklabels():\n",
    "    tl.set_color('b')\n",
    "plt.ylim((-8,35))\n",
    "\n",
    "ax2 = ax1.twinx()\n",
    "y2 = drybulb\n",
    "ax2.plot(y2, 'r-')\n",
    "ax2.set_ylabel('Drybulb Temperature °C', color='r')\n",
    "for tl in ax2.get_yticklabels():\n",
    "    tl.set_color('r')\n",
    "plt.ylim((-8,35))\n",
    "plt.xlim((0,192))\n",
    "x = np.arange(0, 192)\n",
    "plt.fill_between(x, dewpoint, drybulb, color='green', alpha=0.5)\n",
    "plt.show()"
   ]
  },
  {
   "cell_type": "code",
   "execution_count": 17,
   "metadata": {
    "collapsed": false
   },
   "outputs": [
    {
     "data": {
      "text/plain": [
       "array([datetime.datetime(2016, 5, 24, 12, 30),\n",
       "       datetime.datetime(2016, 5, 24, 12, 45),\n",
       "       datetime.datetime(2016, 5, 24, 13, 0),\n",
       "       datetime.datetime(2016, 5, 24, 13, 15),\n",
       "       datetime.datetime(2016, 5, 24, 13, 30),\n",
       "       datetime.datetime(2016, 5, 24, 13, 45),\n",
       "       datetime.datetime(2016, 5, 24, 14, 0),\n",
       "       datetime.datetime(2016, 5, 24, 14, 15),\n",
       "       datetime.datetime(2016, 5, 24, 14, 30),\n",
       "       datetime.datetime(2016, 5, 24, 14, 45),\n",
       "       datetime.datetime(2016, 5, 24, 15, 0),\n",
       "       datetime.datetime(2016, 5, 24, 15, 15),\n",
       "       datetime.datetime(2016, 5, 24, 15, 30),\n",
       "       datetime.datetime(2016, 5, 24, 15, 45),\n",
       "       datetime.datetime(2016, 5, 24, 16, 0),\n",
       "       datetime.datetime(2016, 5, 24, 16, 15),\n",
       "       datetime.datetime(2016, 5, 24, 16, 30),\n",
       "       datetime.datetime(2016, 5, 24, 16, 45),\n",
       "       datetime.datetime(2016, 5, 24, 17, 0),\n",
       "       datetime.datetime(2016, 5, 24, 17, 15),\n",
       "       datetime.datetime(2016, 5, 24, 17, 30),\n",
       "       datetime.datetime(2016, 5, 24, 17, 45),\n",
       "       datetime.datetime(2016, 5, 24, 18, 0),\n",
       "       datetime.datetime(2016, 5, 24, 18, 15),\n",
       "       datetime.datetime(2016, 5, 24, 18, 30),\n",
       "       datetime.datetime(2016, 5, 24, 18, 45),\n",
       "       datetime.datetime(2016, 5, 24, 19, 0),\n",
       "       datetime.datetime(2016, 5, 24, 19, 15),\n",
       "       datetime.datetime(2016, 5, 24, 19, 30),\n",
       "       datetime.datetime(2016, 5, 24, 19, 45),\n",
       "       datetime.datetime(2016, 5, 24, 20, 0),\n",
       "       datetime.datetime(2016, 5, 24, 20, 15),\n",
       "       datetime.datetime(2016, 5, 24, 20, 30),\n",
       "       datetime.datetime(2016, 5, 24, 20, 45),\n",
       "       datetime.datetime(2016, 5, 24, 21, 0),\n",
       "       datetime.datetime(2016, 5, 24, 21, 15),\n",
       "       datetime.datetime(2016, 5, 24, 21, 30),\n",
       "       datetime.datetime(2016, 5, 24, 21, 45),\n",
       "       datetime.datetime(2016, 5, 24, 22, 0),\n",
       "       datetime.datetime(2016, 5, 24, 22, 15),\n",
       "       datetime.datetime(2016, 5, 24, 22, 30),\n",
       "       datetime.datetime(2016, 5, 24, 22, 45),\n",
       "       datetime.datetime(2016, 5, 24, 23, 0),\n",
       "       datetime.datetime(2016, 5, 24, 23, 15),\n",
       "       datetime.datetime(2016, 5, 24, 23, 30),\n",
       "       datetime.datetime(2016, 5, 24, 23, 45),\n",
       "       datetime.datetime(2016, 5, 25, 0, 0),\n",
       "       datetime.datetime(2016, 5, 25, 0, 15),\n",
       "       datetime.datetime(2016, 5, 25, 0, 30),\n",
       "       datetime.datetime(2016, 5, 25, 0, 45),\n",
       "       datetime.datetime(2016, 5, 25, 1, 0),\n",
       "       datetime.datetime(2016, 5, 25, 1, 15),\n",
       "       datetime.datetime(2016, 5, 25, 1, 30),\n",
       "       datetime.datetime(2016, 5, 25, 1, 45),\n",
       "       datetime.datetime(2016, 5, 25, 2, 0),\n",
       "       datetime.datetime(2016, 5, 25, 2, 15),\n",
       "       datetime.datetime(2016, 5, 25, 2, 30),\n",
       "       datetime.datetime(2016, 5, 25, 2, 45),\n",
       "       datetime.datetime(2016, 5, 25, 3, 0),\n",
       "       datetime.datetime(2016, 5, 25, 3, 15),\n",
       "       datetime.datetime(2016, 5, 25, 3, 30),\n",
       "       datetime.datetime(2016, 5, 25, 3, 45),\n",
       "       datetime.datetime(2016, 5, 25, 4, 0),\n",
       "       datetime.datetime(2016, 5, 25, 4, 15),\n",
       "       datetime.datetime(2016, 5, 25, 4, 30),\n",
       "       datetime.datetime(2016, 5, 25, 4, 45),\n",
       "       datetime.datetime(2016, 5, 25, 5, 0),\n",
       "       datetime.datetime(2016, 5, 25, 5, 15),\n",
       "       datetime.datetime(2016, 5, 25, 5, 30),\n",
       "       datetime.datetime(2016, 5, 25, 5, 45),\n",
       "       datetime.datetime(2016, 5, 25, 6, 0),\n",
       "       datetime.datetime(2016, 5, 25, 6, 15),\n",
       "       datetime.datetime(2016, 5, 25, 6, 30),\n",
       "       datetime.datetime(2016, 5, 25, 6, 45),\n",
       "       datetime.datetime(2016, 5, 25, 7, 0),\n",
       "       datetime.datetime(2016, 5, 25, 7, 15),\n",
       "       datetime.datetime(2016, 5, 25, 7, 30),\n",
       "       datetime.datetime(2016, 5, 25, 7, 45),\n",
       "       datetime.datetime(2016, 5, 25, 8, 0),\n",
       "       datetime.datetime(2016, 5, 25, 8, 15),\n",
       "       datetime.datetime(2016, 5, 25, 8, 30),\n",
       "       datetime.datetime(2016, 5, 25, 8, 45),\n",
       "       datetime.datetime(2016, 5, 25, 9, 0),\n",
       "       datetime.datetime(2016, 5, 25, 9, 15),\n",
       "       datetime.datetime(2016, 5, 25, 9, 30),\n",
       "       datetime.datetime(2016, 5, 25, 9, 45),\n",
       "       datetime.datetime(2016, 5, 25, 10, 0),\n",
       "       datetime.datetime(2016, 5, 25, 10, 15),\n",
       "       datetime.datetime(2016, 5, 25, 10, 30),\n",
       "       datetime.datetime(2016, 5, 25, 10, 45),\n",
       "       datetime.datetime(2016, 5, 25, 11, 0),\n",
       "       datetime.datetime(2016, 5, 25, 11, 15),\n",
       "       datetime.datetime(2016, 5, 25, 11, 30),\n",
       "       datetime.datetime(2016, 5, 25, 11, 45),\n",
       "       datetime.datetime(2016, 5, 25, 12, 0),\n",
       "       datetime.datetime(2016, 5, 25, 12, 15),\n",
       "       datetime.datetime(2016, 5, 25, 12, 30),\n",
       "       datetime.datetime(2016, 5, 25, 12, 45),\n",
       "       datetime.datetime(2016, 5, 25, 13, 0),\n",
       "       datetime.datetime(2016, 5, 25, 13, 15),\n",
       "       datetime.datetime(2016, 5, 25, 13, 30),\n",
       "       datetime.datetime(2016, 5, 25, 13, 45),\n",
       "       datetime.datetime(2016, 5, 25, 14, 0),\n",
       "       datetime.datetime(2016, 5, 25, 14, 15),\n",
       "       datetime.datetime(2016, 5, 25, 14, 30),\n",
       "       datetime.datetime(2016, 5, 25, 14, 45),\n",
       "       datetime.datetime(2016, 5, 25, 15, 0),\n",
       "       datetime.datetime(2016, 5, 25, 15, 15),\n",
       "       datetime.datetime(2016, 5, 25, 15, 30),\n",
       "       datetime.datetime(2016, 5, 25, 15, 45),\n",
       "       datetime.datetime(2016, 5, 25, 16, 0),\n",
       "       datetime.datetime(2016, 5, 25, 16, 15),\n",
       "       datetime.datetime(2016, 5, 25, 16, 30),\n",
       "       datetime.datetime(2016, 5, 25, 16, 45),\n",
       "       datetime.datetime(2016, 5, 25, 17, 0),\n",
       "       datetime.datetime(2016, 5, 25, 17, 15),\n",
       "       datetime.datetime(2016, 5, 25, 17, 30),\n",
       "       datetime.datetime(2016, 5, 25, 17, 45),\n",
       "       datetime.datetime(2016, 5, 25, 18, 0),\n",
       "       datetime.datetime(2016, 5, 25, 18, 15),\n",
       "       datetime.datetime(2016, 5, 25, 18, 30),\n",
       "       datetime.datetime(2016, 5, 25, 18, 45),\n",
       "       datetime.datetime(2016, 5, 25, 19, 0),\n",
       "       datetime.datetime(2016, 5, 25, 19, 15),\n",
       "       datetime.datetime(2016, 5, 25, 19, 30),\n",
       "       datetime.datetime(2016, 5, 25, 19, 45),\n",
       "       datetime.datetime(2016, 5, 25, 20, 0),\n",
       "       datetime.datetime(2016, 5, 25, 20, 15),\n",
       "       datetime.datetime(2016, 5, 25, 20, 30),\n",
       "       datetime.datetime(2016, 5, 25, 20, 45),\n",
       "       datetime.datetime(2016, 5, 25, 21, 0),\n",
       "       datetime.datetime(2016, 5, 25, 21, 15),\n",
       "       datetime.datetime(2016, 5, 25, 21, 30),\n",
       "       datetime.datetime(2016, 5, 25, 21, 45),\n",
       "       datetime.datetime(2016, 5, 25, 22, 0),\n",
       "       datetime.datetime(2016, 5, 25, 22, 15),\n",
       "       datetime.datetime(2016, 5, 25, 22, 30),\n",
       "       datetime.datetime(2016, 5, 25, 22, 45),\n",
       "       datetime.datetime(2016, 5, 25, 23, 0),\n",
       "       datetime.datetime(2016, 5, 25, 23, 15),\n",
       "       datetime.datetime(2016, 5, 25, 23, 30),\n",
       "       datetime.datetime(2016, 5, 25, 23, 45),\n",
       "       datetime.datetime(2016, 5, 26, 0, 0),\n",
       "       datetime.datetime(2016, 5, 26, 0, 15),\n",
       "       datetime.datetime(2016, 5, 26, 0, 30),\n",
       "       datetime.datetime(2016, 5, 26, 0, 45),\n",
       "       datetime.datetime(2016, 5, 26, 1, 0),\n",
       "       datetime.datetime(2016, 5, 26, 1, 15),\n",
       "       datetime.datetime(2016, 5, 26, 1, 30),\n",
       "       datetime.datetime(2016, 5, 26, 1, 45),\n",
       "       datetime.datetime(2016, 5, 26, 2, 0),\n",
       "       datetime.datetime(2016, 5, 26, 2, 15),\n",
       "       datetime.datetime(2016, 5, 26, 2, 30),\n",
       "       datetime.datetime(2016, 5, 26, 2, 45),\n",
       "       datetime.datetime(2016, 5, 26, 3, 0),\n",
       "       datetime.datetime(2016, 5, 26, 3, 15),\n",
       "       datetime.datetime(2016, 5, 26, 3, 30),\n",
       "       datetime.datetime(2016, 5, 26, 3, 45),\n",
       "       datetime.datetime(2016, 5, 26, 4, 0),\n",
       "       datetime.datetime(2016, 5, 26, 4, 15),\n",
       "       datetime.datetime(2016, 5, 26, 4, 30),\n",
       "       datetime.datetime(2016, 5, 26, 4, 45),\n",
       "       datetime.datetime(2016, 5, 26, 5, 0),\n",
       "       datetime.datetime(2016, 5, 26, 5, 15),\n",
       "       datetime.datetime(2016, 5, 26, 5, 30),\n",
       "       datetime.datetime(2016, 5, 26, 5, 45),\n",
       "       datetime.datetime(2016, 5, 26, 6, 0),\n",
       "       datetime.datetime(2016, 5, 26, 6, 15),\n",
       "       datetime.datetime(2016, 5, 26, 6, 30),\n",
       "       datetime.datetime(2016, 5, 26, 6, 45),\n",
       "       datetime.datetime(2016, 5, 26, 7, 0),\n",
       "       datetime.datetime(2016, 5, 26, 7, 15),\n",
       "       datetime.datetime(2016, 5, 26, 7, 30),\n",
       "       datetime.datetime(2016, 5, 26, 7, 45),\n",
       "       datetime.datetime(2016, 5, 26, 8, 0),\n",
       "       datetime.datetime(2016, 5, 26, 8, 15),\n",
       "       datetime.datetime(2016, 5, 26, 8, 30),\n",
       "       datetime.datetime(2016, 5, 26, 8, 45),\n",
       "       datetime.datetime(2016, 5, 26, 9, 0),\n",
       "       datetime.datetime(2016, 5, 26, 9, 15),\n",
       "       datetime.datetime(2016, 5, 26, 9, 30),\n",
       "       datetime.datetime(2016, 5, 26, 9, 45),\n",
       "       datetime.datetime(2016, 5, 26, 10, 0),\n",
       "       datetime.datetime(2016, 5, 26, 10, 15),\n",
       "       datetime.datetime(2016, 5, 26, 10, 30),\n",
       "       datetime.datetime(2016, 5, 26, 10, 45),\n",
       "       datetime.datetime(2016, 5, 26, 11, 0),\n",
       "       datetime.datetime(2016, 5, 26, 11, 15),\n",
       "       datetime.datetime(2016, 5, 26, 11, 30),\n",
       "       datetime.datetime(2016, 5, 26, 11, 45),\n",
       "       datetime.datetime(2016, 5, 26, 12, 0),\n",
       "       datetime.datetime(2016, 5, 26, 12, 15)], dtype=object)"
      ]
     },
     "execution_count": 17,
     "metadata": {},
     "output_type": "execute_result"
    }
   ],
   "source": [
    "#here I'm combining the date and time together to get datetime objects \n",
    "combination = (combination)\n",
    "base = datetime(2016, 1, 1, 0, 0, 0, 0)\n",
    "transformed = [base + timedelta(days=int(float(x)), hours=int(y[0:2]), minutes=int(y[3:5])) for x, y in combination]\n",
    "my_array = np.array(transformed)\n",
    "my_array"
   ]
  },
  {
   "cell_type": "code",
   "execution_count": 19,
   "metadata": {
    "collapsed": false
   },
   "outputs": [
    {
     "name": "stderr",
     "output_type": "stream",
     "text": [
      "C:\\Users\\Andrew\\Anaconda3\\lib\\site-packages\\dateutil\\rrule.py:470: DeprecationWarning: Using both 'count' and 'until' is inconsistent with RFC 2445 and has been deprecated in dateutil. Future versions will raise an error.\n",
      "  \"raise an error.\", DeprecationWarning)\n",
      "C:\\Users\\Andrew\\Anaconda3\\lib\\site-packages\\dateutil\\rrule.py:470: DeprecationWarning: Using both 'count' and 'until' is inconsistent with RFC 2445 and has been deprecated in dateutil. Future versions will raise an error.\n",
      "  \"raise an error.\", DeprecationWarning)\n",
      "C:\\Users\\Andrew\\Anaconda3\\lib\\site-packages\\dateutil\\rrule.py:470: DeprecationWarning: Using both 'count' and 'until' is inconsistent with RFC 2445 and has been deprecated in dateutil. Future versions will raise an error.\n",
      "  \"raise an error.\", DeprecationWarning)\n",
      "C:\\Users\\Andrew\\Anaconda3\\lib\\site-packages\\dateutil\\rrule.py:470: DeprecationWarning: Using both 'count' and 'until' is inconsistent with RFC 2445 and has been deprecated in dateutil. Future versions will raise an error.\n",
      "  \"raise an error.\", DeprecationWarning)\n",
      "C:\\Users\\Andrew\\Anaconda3\\lib\\site-packages\\dateutil\\rrule.py:470: DeprecationWarning: Using both 'count' and 'until' is inconsistent with RFC 2445 and has been deprecated in dateutil. Future versions will raise an error.\n",
      "  \"raise an error.\", DeprecationWarning)\n"
     ]
    },
    {
     "data": {
      "image/png": "[encoded data removed]",
      "text/plain": [
       "<matplotlib.figure.Figure at 0x1836fde7550>"
      ]
     },
     "metadata": {},
     "output_type": "display_data"
    }
   ],
   "source": [
    "#here I'm ploting dewpoint and drybulb over datetime\n",
    "\n",
    "fig, ax1 = plt.subplots()\n",
    "fig.suptitle('Dewpoint and Drybulb Over Datetime', fontsize=10, fontweight='bold')\n",
    "x = np.array(my_array)\n",
    "y1 = dewpoint\n",
    "y2 = drybulb\n",
    "ax1.set_xlabel('Datetime')\n",
    "ax1.plot(x, y1, 'b-')\n",
    "ax1.set_ylabel('Dewpoint Temperature °C', color='b')\n",
    "for tl in ax1.get_yticklabels():\n",
    "    tl.set_color('b')\n",
    "plt.ylim((-8,35))\n",
    "\n",
    "ax2 = ax1.twinx()\n",
    "\n",
    "ax2.plot(x, y2, 'r-')\n",
    "ax2.set_ylabel('Drybulb Temperature °C', color='r')\n",
    "for tl in ax2.get_yticklabels():\n",
    "    tl.set_color('r')\n",
    "plt.ylim((-8,35))\n",
    "\n",
    "\n",
    "x_lims = (my_array)\n",
    "\n",
    "#converting datetime objects to correct format for matplotlib \n",
    "date_format = mdates.DateFormatter('%Y/%m/%d %H:%M:%S')\n",
    "x_lims = mdates.date2num(x_lims)\n",
    "ax1.xaxis_date()\n",
    "ax1.xaxis.set_major_formatter(date_format)\n",
    "\n",
    "#next line of code will help the data fit better\n",
    "fig.autofmt_xdate()                       \n",
    "\n",
    "plt.fill_between(x, y1, y2, color='green', alpha='0.5')\n",
    "\n",
    "plt.show()\n"
   ]
  },
  {
   "cell_type": "code",
   "execution_count": null,
   "metadata": {
    "collapsed": true
   },
   "outputs": [],
   "source": []
  }
 ],
 "metadata": {
  "kernelspec": {
   "display_name": "Python 3",
   "language": "python",
   "name": "python3"
  },
  "language_info": {
   "codemirror_mode": {
    "name": "ipython",
    "version": 3
   },
   "file_extension": ".py",
   "mimetype": "text/x-python",
   "name": "python",
   "nbconvert_exporter": "python",
   "pygments_lexer": "ipython3",
   "version": "3.5.1"
  }
 },
 "nbformat": 4,
 "nbformat_minor": 0
}
