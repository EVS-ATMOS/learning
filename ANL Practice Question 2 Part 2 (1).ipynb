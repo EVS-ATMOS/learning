{
 "cells": [
  {
   "cell_type": "code",
   "execution_count": 12,
   "metadata": {
    "collapsed": false
   },
   "outputs": [
    {
     "name": "stdout",
     "output_type": "stream",
     "text": [
      "1.6.0\n"
     ]
    }
   ],
   "source": [
    "import pyart\n",
    "from matplotlib import pyplot as plt\n",
    "%matplotlib inline\n",
    "import numpy as np\n",
    "print(pyart.__version__)\n",
    "radar = pyart.io.read('./Downloads/KLOT20130417_235520_V06.gz')"
   ]
  },
  {
   "cell_type": "code",
   "execution_count": 13,
   "metadata": {
    "collapsed": false,
    "scrolled": true
   },
   "outputs": [
    {
     "name": "stdout",
     "output_type": "stream",
     "text": [
      "dict_keys(['reflectivity', 'spectrum_width', 'differential_reflectivity', 'cross_correlation_ratio', 'velocity', 'differential_phase'])\n"
     ]
    }
   ],
   "source": [
    "print(radar.fields.keys())"
   ]
  },
  {
   "cell_type": "code",
   "execution_count": 3,
   "metadata": {
    "collapsed": false
   },
   "outputs": [
    {
     "name": "stderr",
     "output_type": "stream",
     "text": [
      "C:\\Users\\Andrew\\Anaconda3\\lib\\site-packages\\IPython\\core\\formatters.py:92: DeprecationWarning: DisplayFormatter._ipython_display_formatter_default is deprecated: use @default decorator instead.\n",
      "  def _ipython_display_formatter_default(self):\n",
      "C:\\Users\\Andrew\\Anaconda3\\lib\\site-packages\\IPython\\core\\formatters.py:669: DeprecationWarning: PlainTextFormatter._singleton_printers_default is deprecated: use @default decorator instead.\n",
      "  def _singleton_printers_default(self):\n"
     ]
    },
    {
     "data": {
      "text/plain": [
       "['__class__',\n",
       " '__delattr__',\n",
       " '__dict__',\n",
       " '__dir__',\n",
       " '__doc__',\n",
       " '__eq__',\n",
       " '__format__',\n",
       " '__ge__',\n",
       " '__getattribute__',\n",
       " '__gt__',\n",
       " '__hash__',\n",
       " '__init__',\n",
       " '__le__',\n",
       " '__lt__',\n",
       " '__module__',\n",
       " '__ne__',\n",
       " '__new__',\n",
       " '__reduce__',\n",
       " '__reduce_ex__',\n",
       " '__repr__',\n",
       " '__setattr__',\n",
       " '__sizeof__',\n",
       " '__str__',\n",
       " '__subclasshook__',\n",
       " '__weakref__',\n",
       " '_check_sweep_in_range',\n",
       " '_dic_info',\n",
       " 'add_field',\n",
       " 'add_field_like',\n",
       " 'altitude',\n",
       " 'altitude_agl',\n",
       " 'antenna_transition',\n",
       " 'azimuth',\n",
       " 'check_field_exists',\n",
       " 'drift',\n",
       " 'elevation',\n",
       " 'extract_sweeps',\n",
       " 'fields',\n",
       " 'fixed_angle',\n",
       " 'gate_altitude',\n",
       " 'gate_latitude',\n",
       " 'gate_longitude',\n",
       " 'gate_x',\n",
       " 'gate_y',\n",
       " 'gate_z',\n",
       " 'georefs_applied',\n",
       " 'get_azimuth',\n",
       " 'get_elevation',\n",
       " 'get_end',\n",
       " 'get_field',\n",
       " 'get_gate_x_y_z',\n",
       " 'get_nyquist_vel',\n",
       " 'get_slice',\n",
       " 'get_start',\n",
       " 'get_start_end',\n",
       " 'heading',\n",
       " 'info',\n",
       " 'init_gate_altitude',\n",
       " 'init_gate_longitude_latitude',\n",
       " 'init_gate_x_y_z',\n",
       " 'init_rays_per_sweep',\n",
       " 'instrument_parameters',\n",
       " 'iter_azimuth',\n",
       " 'iter_elevation',\n",
       " 'iter_end',\n",
       " 'iter_field',\n",
       " 'iter_slice',\n",
       " 'iter_start',\n",
       " 'iter_start_end',\n",
       " 'latitude',\n",
       " 'longitude',\n",
       " 'metadata',\n",
       " 'ngates',\n",
       " 'nrays',\n",
       " 'nsweeps',\n",
       " 'pitch',\n",
       " 'projection',\n",
       " 'radar_calibration',\n",
       " 'range',\n",
       " 'ray_angle_res',\n",
       " 'rays_are_indexed',\n",
       " 'rays_per_sweep',\n",
       " 'roll',\n",
       " 'rotation',\n",
       " 'scan_rate',\n",
       " 'scan_type',\n",
       " 'sweep_end_ray_index',\n",
       " 'sweep_mode',\n",
       " 'sweep_number',\n",
       " 'sweep_start_ray_index',\n",
       " 'target_scan_rate',\n",
       " 'tilt',\n",
       " 'time']"
      ]
     },
     "execution_count": 3,
     "metadata": {},
     "output_type": "execute_result"
    }
   ],
   "source": [
    "dir(radar)"
   ]
  },
  {
   "cell_type": "code",
   "execution_count": 3,
   "metadata": {
    "collapsed": false
   },
   "outputs": [
    {
     "name": "stderr",
     "output_type": "stream",
     "text": [
      "C:\\Users\\Andrew\\Anaconda3\\lib\\site-packages\\pyart\\map\\grid_mapper.py:40: DeprecationWarning: inspect.getargspec() is deprecated, use inspect.signature() instead\n",
      "  from .ball_tree import BallTree\n"
     ]
    },
    {
     "ename": "KeyError",
     "evalue": "'reflectivity_horizontal'",
     "output_type": "error",
     "traceback": [
      "\u001b[1;31m---------------------------------------------------------------------------\u001b[0m",
      "\u001b[1;31mKeyError\u001b[0m                                  Traceback (most recent call last)",
      "\u001b[1;32m<ipython-input-3-f4c2c2d1ca6f>\u001b[0m in \u001b[0;36m<module>\u001b[1;34m()\u001b[0m\n\u001b[0;32m     12\u001b[0m                      \u001b[0mlat_lines\u001b[0m\u001b[1;33m=\u001b[0m\u001b[0mnp\u001b[0m\u001b[1;33m.\u001b[0m\u001b[0marange\u001b[0m\u001b[1;33m(\u001b[0m\u001b[1;36m69\u001b[0m\u001b[1;33m,\u001b[0m \u001b[1;36m72\u001b[0m\u001b[1;33m,\u001b[0m \u001b[1;36m.1\u001b[0m\u001b[1;33m)\u001b[0m\u001b[1;33m,\u001b[0m \u001b[0mresolution\u001b[0m\u001b[1;33m=\u001b[0m\u001b[1;34m'h'\u001b[0m\u001b[1;33m,\u001b[0m\u001b[1;33m\u001b[0m\u001b[0m\n\u001b[0;32m     13\u001b[0m                      \u001b[0mlat_0\u001b[0m\u001b[1;33m=\u001b[0m\u001b[0mradar\u001b[0m\u001b[1;33m.\u001b[0m\u001b[0mlatitude\u001b[0m\u001b[1;33m[\u001b[0m\u001b[1;34m'data'\u001b[0m\u001b[1;33m]\u001b[0m\u001b[1;33m[\u001b[0m\u001b[1;36m0\u001b[0m\u001b[1;33m]\u001b[0m\u001b[1;33m,\u001b[0m\u001b[1;33m\u001b[0m\u001b[0m\n\u001b[1;32m---> 14\u001b[1;33m                      lon_0=radar.longitude['data'][0])\n\u001b[0m\u001b[0;32m     15\u001b[0m \u001b[1;33m\u001b[0m\u001b[0m\n\u001b[0;32m     16\u001b[0m \u001b[1;31m# plot range rings at 10, 20, 30 and 40km\u001b[0m\u001b[1;33m\u001b[0m\u001b[1;33m\u001b[0m\u001b[0m\n",
      "\u001b[1;32mC:\\Users\\Andrew\\Anaconda3\\lib\\site-packages\\pyart\\graph\\radarmapdisplay.py\u001b[0m in \u001b[0;36mplot_ppi_map\u001b[1;34m(self, field, sweep, mask_tuple, vmin, vmax, cmap, norm, mask_outside, title, title_flag, colorbar_flag, colorbar_label, ax, fig, lat_lines, lon_lines, projection, area_thresh, min_lon, max_lon, min_lat, max_lat, width, height, lon_0, lat_0, resolution, shapefile, edges, gatefilter, basemap, filter_transitions, embelish, **kwargs)\u001b[0m\n\u001b[0;32m    214\u001b[0m         \u001b[0max\u001b[0m\u001b[1;33m,\u001b[0m \u001b[0mfig\u001b[0m \u001b[1;33m=\u001b[0m \u001b[0mparse_ax_fig\u001b[0m\u001b[1;33m(\u001b[0m\u001b[0max\u001b[0m\u001b[1;33m,\u001b[0m \u001b[0mfig\u001b[0m\u001b[1;33m)\u001b[0m\u001b[1;33m\u001b[0m\u001b[0m\n\u001b[0;32m    215\u001b[0m         norm, vmin, vmax = parse_norm_vmin_vmax(\n\u001b[1;32m--> 216\u001b[1;33m             norm, self._radar, field, vmin, vmax)\n\u001b[0m\u001b[0;32m    217\u001b[0m         \u001b[0mcmap\u001b[0m \u001b[1;33m=\u001b[0m \u001b[0mparse_cmap\u001b[0m\u001b[1;33m(\u001b[0m\u001b[0mcmap\u001b[0m\u001b[1;33m,\u001b[0m \u001b[0mfield\u001b[0m\u001b[1;33m)\u001b[0m\u001b[1;33m\u001b[0m\u001b[0m\n\u001b[0;32m    218\u001b[0m         \u001b[1;32mif\u001b[0m \u001b[0mlat_lines\u001b[0m \u001b[1;32mis\u001b[0m \u001b[1;32mNone\u001b[0m\u001b[1;33m:\u001b[0m\u001b[1;33m\u001b[0m\u001b[0m\n",
      "\u001b[1;32mC:\\Users\\Andrew\\Anaconda3\\lib\\site-packages\\pyart\\graph\\common.py\u001b[0m in \u001b[0;36mparse_norm_vmin_vmax\u001b[1;34m(norm, container, field, vmin, vmax)\u001b[0m\n\u001b[0;32m     73\u001b[0m     \u001b[1;34m\"\"\" Parse and return norm, vmin and vmax parameters. \"\"\"\u001b[0m\u001b[1;33m\u001b[0m\u001b[0m\n\u001b[0;32m     74\u001b[0m     \u001b[1;32mif\u001b[0m \u001b[0mnorm\u001b[0m \u001b[1;32mis\u001b[0m \u001b[1;32mNone\u001b[0m\u001b[1;33m:\u001b[0m\u001b[1;33m\u001b[0m\u001b[0m\n\u001b[1;32m---> 75\u001b[1;33m         \u001b[0mvmin\u001b[0m\u001b[1;33m,\u001b[0m \u001b[0mvmax\u001b[0m \u001b[1;33m=\u001b[0m \u001b[0mparse_vmin_vmax\u001b[0m\u001b[1;33m(\u001b[0m\u001b[0mcontainer\u001b[0m\u001b[1;33m,\u001b[0m \u001b[0mfield\u001b[0m\u001b[1;33m,\u001b[0m \u001b[0mvmin\u001b[0m\u001b[1;33m,\u001b[0m \u001b[0mvmax\u001b[0m\u001b[1;33m)\u001b[0m\u001b[1;33m\u001b[0m\u001b[0m\n\u001b[0m\u001b[0;32m     76\u001b[0m     \u001b[1;32melse\u001b[0m\u001b[1;33m:\u001b[0m\u001b[1;33m\u001b[0m\u001b[0m\n\u001b[0;32m     77\u001b[0m         \u001b[0mvmin\u001b[0m \u001b[1;33m=\u001b[0m \u001b[1;32mNone\u001b[0m\u001b[1;33m\u001b[0m\u001b[0m\n",
      "\u001b[1;32mC:\\Users\\Andrew\\Anaconda3\\lib\\site-packages\\pyart\\graph\\common.py\u001b[0m in \u001b[0;36mparse_vmin_vmax\u001b[1;34m(container, field, vmin, vmax)\u001b[0m\n\u001b[0;32m     89\u001b[0m \u001b[1;32mdef\u001b[0m \u001b[0mparse_vmin_vmax\u001b[0m\u001b[1;33m(\u001b[0m\u001b[0mcontainer\u001b[0m\u001b[1;33m,\u001b[0m \u001b[0mfield\u001b[0m\u001b[1;33m,\u001b[0m \u001b[0mvmin\u001b[0m\u001b[1;33m,\u001b[0m \u001b[0mvmax\u001b[0m\u001b[1;33m)\u001b[0m\u001b[1;33m:\u001b[0m\u001b[1;33m\u001b[0m\u001b[0m\n\u001b[0;32m     90\u001b[0m     \u001b[1;34m\"\"\" Parse and return vmin and vmax parameters. \"\"\"\u001b[0m\u001b[1;33m\u001b[0m\u001b[0m\n\u001b[1;32m---> 91\u001b[1;33m     \u001b[0mfield_dict\u001b[0m \u001b[1;33m=\u001b[0m \u001b[0mcontainer\u001b[0m\u001b[1;33m.\u001b[0m\u001b[0mfields\u001b[0m\u001b[1;33m[\u001b[0m\u001b[0mfield\u001b[0m\u001b[1;33m]\u001b[0m\u001b[1;33m\u001b[0m\u001b[0m\n\u001b[0m\u001b[0;32m     92\u001b[0m     \u001b[0mfield_default_vmin\u001b[0m\u001b[1;33m,\u001b[0m \u001b[0mfield_default_vmax\u001b[0m \u001b[1;33m=\u001b[0m \u001b[0mget_field_limits\u001b[0m\u001b[1;33m(\u001b[0m\u001b[0mfield\u001b[0m\u001b[1;33m)\u001b[0m\u001b[1;33m\u001b[0m\u001b[0m\n\u001b[0;32m     93\u001b[0m     \u001b[1;32mif\u001b[0m \u001b[0mvmin\u001b[0m \u001b[1;32mis\u001b[0m \u001b[1;32mNone\u001b[0m\u001b[1;33m:\u001b[0m\u001b[1;33m\u001b[0m\u001b[0m\n",
      "\u001b[1;31mKeyError\u001b[0m: 'reflectivity_horizontal'"
     ]
    }
   ],
   "source": [
    "import numpy as np\n",
    "import matplotlib.pyplot as plt\n",
    "import pyart\n",
    "filename = './Downloads/KLOT20130417_235520_V06.gz'\n",
    "radar = pyart.io.read('./Downloads/KLOT20130417_235520_V06.gz')\n",
    "display = pyart.graph.RadarMapDisplay(radar)\n",
    "\n",
    "# plot the second tilt\n",
    "display.plot_ppi_map('reflectivity_horizontal', 1, vmin=-20, vmax=20,\n",
    "                     min_lon=-157.1, max_lon=-156, min_lat=71.2, max_lat=71.6,\n",
    "                     lon_lines=np.arange(-158, -154, .2), projection='lcc',\n",
    "                     lat_lines=np.arange(69, 72, .1), resolution='h',\n",
    "                     lat_0=radar.latitude['data'][0],\n",
    "                     lon_0=radar.longitude['data'][0])\n",
    "\n",
    "# plot range rings at 10, 20, 30 and 40km\n",
    "display.plot_range_ring(10., line_style='k-')\n",
    "display.plot_range_ring(20., line_style='k--')\n",
    "display.plot_range_ring(30., line_style='k-')\n",
    "display.plot_range_ring(40., line_style='k--')\n",
    "\n",
    "# plots cross hairs\n",
    "display.plot_line_xy(np.array([-40000.0, 40000.0]), np.array([0.0, 0.0]),\n",
    "                     line_style='k-')\n",
    "display.plot_line_xy(np.array([0.0, 0.0]), np.array([-20000.0, 200000.0]),\n",
    "                     line_style='k-')\n",
    "\n",
    "# Indicate the radar location with a point\n",
    "display.plot_point(radar.longitude['data'][0], radar.latitude['data'][0])\n",
    "\n",
    "plt.show()"
   ]
  },
  {
   "cell_type": "code",
   "execution_count": 4,
   "metadata": {
    "collapsed": true
   },
   "outputs": [],
   "source": [
    "pyart.io.write_cfradial('converted_sigmet_file.nc', radar)"
   ]
  },
  {
   "cell_type": "code",
   "execution_count": 5,
   "metadata": {
    "collapsed": false
   },
   "outputs": [
    {
     "data": {
      "text/plain": [
       "<matplotlib.axes._subplots.AxesSubplot at 0x1a979bb15f8>"
      ]
     },
     "execution_count": 5,
     "metadata": {},
     "output_type": "execute_result"
    },
    {
     "data": {
      "image/png": "[encoded data removed]",
      "text/plain": [
       "<matplotlib.figure.Figure at 0x1a979bb16a0>"
      ]
     },
     "metadata": {},
     "output_type": "display_data"
    }
   ],
   "source": [
    "display = pyart.graph.RadarMapDisplay(radar)\n",
    "f = plt.figure(figsize = [17,4])\n",
    "plt.subplot(1, 3, 1) "
   ]
  },
  {
   "cell_type": "code",
   "execution_count": 6,
   "metadata": {
    "collapsed": true
   },
   "outputs": [],
   "source": [
    "display = pyart.graph.RadarMapDisplay(radar)"
   ]
  },
  {
   "cell_type": "code",
   "execution_count": 7,
   "metadata": {
    "collapsed": true
   },
   "outputs": [],
   "source": [
    "radar = radar.extract_sweeps([0, 1])"
   ]
  },
  {
   "cell_type": "code",
   "execution_count": 8,
   "metadata": {
    "collapsed": false
   },
   "outputs": [],
   "source": [
    "display = pyart.graph.RadarMapDisplay(radar)\n",
    "f = plt.figure(figsize = [17,4])\n",
    "plt.subplot(1, 3, 1) \n",
    "display.plot_ppi_map('differential_reflectivity', max_lat = 26.5, min_lat =25.4, min_lon = -81., max_lon = -79.5,\n",
    "                     vmin = -7, vmax = 7, lat_lines = np.arange(20,28,.2), lon_lines = np.arange(-82, -79, .5),\n",
    "                     resolution = 'i')\n",
    "plt.subplot(1, 3, 2) \n",
    "display.plot_ppi_map('reflectivity', max_lat = 26.5, min_lat =25.4, min_lon = -81., max_lon = -79.5,\n",
    "                     vmin = -8, vmax = 64, lat_lines = np.arange(20,28,.2), lon_lines = np.arange(-82, -79, .5),\n",
    "                     resolution = 'i')\n",
    "plt.subplot(1, 3, 3) \n",
    "display.plot_ppi_map('velocity', sweep = 1, max_lat = 26.5, min_lat =25.4, min_lon = -81., max_lon = -79.5,\n",
    "                     vmin = -15, vmax = 15, lat_lines = np.arange(20,28,.2), lon_lines = np.arange(-82, -79, .5),\n",
    "                     resolution = 'i')"
   ]
  },
  {
   "cell_type": "code",
   "execution_count": 4,
   "metadata": {
    "collapsed": false
   },
   "outputs": [
    {
     "name": "stderr",
     "output_type": "stream",
     "text": [
      "C:\\Users\\Andrew\\Anaconda3\\lib\\site-packages\\IPython\\core\\formatters.py:92: DeprecationWarning: DisplayFormatter._ipython_display_formatter_default is deprecated: use @default decorator instead.\n",
      "  def _ipython_display_formatter_default(self):\n",
      "C:\\Users\\Andrew\\Anaconda3\\lib\\site-packages\\IPython\\core\\formatters.py:98: DeprecationWarning: DisplayFormatter._formatters_default is deprecated: use @default decorator instead.\n",
      "  def _formatters_default(self):\n",
      "C:\\Users\\Andrew\\Anaconda3\\lib\\site-packages\\IPython\\core\\formatters.py:677: DeprecationWarning: PlainTextFormatter._deferred_printers_default is deprecated: use @default decorator instead.\n",
      "  def _deferred_printers_default(self):\n",
      "C:\\Users\\Andrew\\Anaconda3\\lib\\site-packages\\IPython\\core\\formatters.py:669: DeprecationWarning: PlainTextFormatter._singleton_printers_default is deprecated: use @default decorator instead.\n",
      "  def _singleton_printers_default(self):\n",
      "C:\\Users\\Andrew\\Anaconda3\\lib\\site-packages\\IPython\\core\\formatters.py:672: DeprecationWarning: PlainTextFormatter._type_printers_default is deprecated: use @default decorator instead.\n",
      "  def _type_printers_default(self):\n",
      "C:\\Users\\Andrew\\Anaconda3\\lib\\site-packages\\IPython\\core\\formatters.py:669: DeprecationWarning: PlainTextFormatter._singleton_printers_default is deprecated: use @default decorator instead.\n",
      "  def _singleton_printers_default(self):\n",
      "C:\\Users\\Andrew\\Anaconda3\\lib\\site-packages\\IPython\\core\\formatters.py:672: DeprecationWarning: PlainTextFormatter._type_printers_default is deprecated: use @default decorator instead.\n",
      "  def _type_printers_default(self):\n",
      "C:\\Users\\Andrew\\Anaconda3\\lib\\site-packages\\IPython\\core\\formatters.py:677: DeprecationWarning: PlainTextFormatter._deferred_printers_default is deprecated: use @default decorator instead.\n",
      "  def _deferred_printers_default(self):\n"
     ]
    },
    {
     "data": {
      "text/plain": [
       "<matplotlib.collections.PolyCollection at 0x243eff54320>"
      ]
     },
     "execution_count": 4,
     "metadata": {},
     "output_type": "execute_result"
    }
   ],
   "source": [
    "nexrad_site = 'klot'\n",
    "f = plt.figure(figsize = [24,9])\n",
    "display = pyart.graph.RadarMapDisplay(radar)\n",
    "display.plot_ppi_map(\n",
    "    'reflectivity', vmin=-32, vmax=80, cmap='pyart_NWSRef',\n",
    "    resolution='h', embelish=False)\n",
    "display.basemap.drawcounties()"
   ]
  },
  {
   "cell_type": "code",
   "execution_count": null,
   "metadata": {
    "collapsed": false,
    "scrolled": true
   },
   "outputs": [],
   "source": [
    "radar = pyart.io.read('./Downloads/DPA.txt')"
   ]
  },
  {
   "cell_type": "code",
   "execution_count": 6,
   "metadata": {
    "collapsed": false
   },
   "outputs": [
    {
     "data": {
      "text/plain": [
       "<matplotlib.collections.PolyCollection at 0x24394dbceb8>"
      ]
     },
     "execution_count": 6,
     "metadata": {},
     "output_type": "execute_result"
    }
   ],
   "source": [
    "display = pyart.graph.RadarMapDisplay(radar)\n",
    "display = pyart.graph.RadarMapDisplay(radar)\n",
    "f = plt.figure(figsize = [17,4])\n",
    "plt.subplot(1, 3, 1)\n",
    "\n",
    "nexrad_site = 'klot'\n",
    "f = plt.figure(figsize = [24,9])\n",
    "display = pyart.graph.RadarMapDisplay(radar)\n",
    "display.plot_ppi_map(\n",
    "    'reflectivity', vmin=-32, vmax=80, cmap='pyart_NWSRef',\n",
    "    resolution='h', embelish=False)\n",
    "display.basemap.drawcounties()"
   ]
  },
  {
   "cell_type": "code",
   "execution_count": 16,
   "metadata": {
    "collapsed": false
   },
   "outputs": [
    {
     "name": "stdout",
     "output_type": "stream",
     "text": [
      "dict_keys(['reflectivity', 'spectrum_width', 'differential_reflectivity', 'cross_correlation_ratio', 'velocity', 'differential_phase'])\n"
     ]
    }
   ],
   "source": [
    "print(radar.fields.keys())"
   ]
  },
  {
   "cell_type": "code",
   "execution_count": 6,
   "metadata": {
    "collapsed": false,
    "scrolled": false
   },
   "outputs": [
    {
     "name": "stdout",
     "output_type": "stream",
     "text": [
      "1.6.0\n",
      "b'<!DOCTYPE html PUBLIC \"-//W3C//DTD XHTML 1.0 Transitional//EN\" \"http://www.w3.org/TR/xhtml1/DTD/xhtml1-transitional.dtd\">\\n<html xmlns=\"http://www.w3.org/1999/xhtml\" xml:lang=\"en\">\\n<head>\\n\\t\\n\\t<title>NDBC - Measurement Descriptions and Units</title>\\n\\t<meta http-equiv=\"Content-Type\" content=\"Text/html; '\n"
     ]
    },
    {
     "ename": "NameError",
     "evalue": "name 'radar' is not defined",
     "output_type": "error",
     "traceback": [
      "\u001b[1;31m---------------------------------------------------------------------------\u001b[0m",
      "\u001b[1;31mNameError\u001b[0m                                 Traceback (most recent call last)",
      "\u001b[1;32m<ipython-input-6-e7c4563191dc>\u001b[0m in \u001b[0;36m<module>\u001b[1;34m()\u001b[0m\n\u001b[0;32m      7\u001b[0m \u001b[1;32mwith\u001b[0m \u001b[0murllib\u001b[0m\u001b[1;33m.\u001b[0m\u001b[0mrequest\u001b[0m\u001b[1;33m.\u001b[0m\u001b[0murlopen\u001b[0m\u001b[1;33m(\u001b[0m\u001b[1;34m'http://www.ndbc.noaa.gov/measdes.shtml#srad'\u001b[0m\u001b[1;33m)\u001b[0m \u001b[1;32mas\u001b[0m \u001b[0mf\u001b[0m\u001b[1;33m:\u001b[0m\u001b[1;33m\u001b[0m\u001b[0m\n\u001b[0;32m      8\u001b[0m     \u001b[0mprint\u001b[0m\u001b[1;33m(\u001b[0m\u001b[0mf\u001b[0m\u001b[1;33m.\u001b[0m\u001b[0mread\u001b[0m\u001b[1;33m(\u001b[0m\u001b[1;36m300\u001b[0m\u001b[1;33m)\u001b[0m\u001b[1;33m)\u001b[0m\u001b[1;33m\u001b[0m\u001b[0m\n\u001b[1;32m----> 9\u001b[1;33m \u001b[0mprint\u001b[0m\u001b[1;33m(\u001b[0m\u001b[0mradar\u001b[0m\u001b[1;33m.\u001b[0m\u001b[0mfields\u001b[0m\u001b[1;33m.\u001b[0m\u001b[0mkeys\u001b[0m\u001b[1;33m(\u001b[0m\u001b[1;33m)\u001b[0m\u001b[1;33m)\u001b[0m\u001b[1;33m\u001b[0m\u001b[0m\n\u001b[0m\u001b[0;32m     10\u001b[0m \u001b[0mpyart\u001b[0m\u001b[1;33m.\u001b[0m\u001b[0mio\u001b[0m\u001b[1;33m.\u001b[0m\u001b[0mwrite_cfradial\u001b[0m\u001b[1;33m(\u001b[0m\u001b[1;34m'converted_sigmet_file.nc'\u001b[0m\u001b[1;33m,\u001b[0m \u001b[0mradar\u001b[0m\u001b[1;33m)\u001b[0m\u001b[1;33m\u001b[0m\u001b[0m\n\u001b[0;32m     11\u001b[0m \u001b[0mdisplay\u001b[0m \u001b[1;33m=\u001b[0m \u001b[0mpyart\u001b[0m\u001b[1;33m.\u001b[0m\u001b[0mgraph\u001b[0m\u001b[1;33m.\u001b[0m\u001b[0mRadarMapDisplay\u001b[0m\u001b[1;33m(\u001b[0m\u001b[0mradar\u001b[0m\u001b[1;33m)\u001b[0m\u001b[1;33m\u001b[0m\u001b[0m\n",
      "\u001b[1;31mNameError\u001b[0m: name 'radar' is not defined"
     ]
    }
   ],
   "source": [
    "import pyart\n",
    "from matplotlib import pyplot as plt\n",
    "%matplotlib inline\n",
    "import urllib.request\n",
    "import numpy as np\n",
    "print(pyart.__version__)\n",
    "with urllib.request.urlopen('http://www.ndbc.noaa.gov/measdes.shtml#srad') as f:\n",
    "    print(f.read(300))\n",
    "print(radar.fields.keys())   \n",
    "pyart.io.write_cfradial('converted_sigmet_file.nc', radar) \n",
    "display = pyart.graph.RadarMapDisplay(radar)\n",
    "f = plt.figure(figsize = [17,4])\n",
    "plt.subplot(1, 3, 1)\n",
    "isplay = pyart.graph.RadarMapDisplay(radar)\n",
    "radar = radar.extract_sweeps([0, 1])\n",
    "display = pyart.graph.RadarMapDisplay(radar)\n",
    "f = plt.figure(figsize = [17,4])\n",
    "plt.subplot(1, 3, 1) \n",
    "display = pyart.graph.RadarMapDisplay(radar)\n",
    "f = plt.figure(figsize = [17,4])\n",
    "plt.subplot(1, 3, 1) \n",
    "display.plot_ppi_map('differential_reflectivity', max_lat = 26.5, min_lat =25.4, min_lon = -81., max_lon = -79.5,\n",
    "                     vmin = -7, vmax = 7, lat_lines = np.arange(20,28,.2), lon_lines = np.arange(-82, -79, .5),\n",
    "                     resolution = 'i')\n",
    "plt.subplot(1, 3, 2) \n",
    "display.plot_ppi_map('reflectivity', max_lat = 26.5, min_lat =25.4, min_lon = -81., max_lon = -79.5,\n",
    "                     vmin = -8, vmax = 64, lat_lines = np.arange(20,28,.2), lon_lines = np.arange(-82, -79, .5),\n",
    "                     resolution = 'i')\n",
    "plt.subplot(1, 3, 3) \n",
    "display.plot_ppi_map('velocity', sweep = 1, max_lat = 26.5, min_lat =25.4, min_lon = -81., max_lon = -79.5,\n",
    "                     vmin = -15, vmax = 15, lat_lines = np.arange(20,28,.2), lon_lines = np.arange(-82, -79, .5),\n",
    "                     resolution = 'i')\n",
    "display = pyart.graph.RadarDisplay(radar)\n",
    "fig = plt.figure(figsize=(9, 12))\n",
    "\n",
    "plots = [\n",
    "  \n",
    "    ['reflectivity', 'Reflectivity (dBZ)', 0],\n",
    "    ['differential_reflectivity', 'Zdr (dB)', 0],\n",
    "    ['differential_phase', 'Phi_DP (deg)', 0],\n",
    "    ['cross_correlation_ratio', 'Rho_HV', 0],\n",
    "    ['velocity', 'Velocity (m/s)', 1],\n",
    "    ['spectrum_width', 'Spectrum Width', 1]\n",
    "]\n",
    "\n",
    "def plot_radar_images(plots):\n",
    "    ncols = 2\n",
    "    nrows = len(plots)/2\n",
    "    for plotno, plot in enumerate(plots, start=1):\n",
    "        ax = fig.add_subplot(nrows, ncols, plotno)\n",
    "        display.plot(plot[0], plot[2], ax=ax, title=plot[1],\n",
    "             colorbar_label='',\n",
    "             axislabels=('East-West distance from radar (km)' if plotno == 6 else '', \n",
    "                         'North-South distance from radar (km)' if plotno == 1 else ''))\n",
    "        display.set_limits((-300, 300), (-300, 300), ax=ax)\n",
    "        display.set_aspect_ratio('equal', ax=ax)\n",
    "        display.plot_range_rings(range(100, 350, 100), lw=0.5, col='black', ax=ax)\n",
    "    plt.show()\n",
    "\n",
    "plot_radar_images(plots)\n",
    "radar.info('compact')\n"
   ]
  },
  {
   "cell_type": "code",
   "execution_count": 7,
   "metadata": {
    "collapsed": false
   },
   "outputs": [
    {
     "ename": "NameError",
     "evalue": "name 'radar' is not defined",
     "output_type": "error",
     "traceback": [
      "\u001b[1;31m---------------------------------------------------------------------------\u001b[0m",
      "\u001b[1;31mNameError\u001b[0m                                 Traceback (most recent call last)",
      "\u001b[1;32m<ipython-input-7-e6e6601cca29>\u001b[0m in \u001b[0;36m<module>\u001b[1;34m()\u001b[0m\n\u001b[0;32m      1\u001b[0m \u001b[0mnexrad_site\u001b[0m \u001b[1;33m=\u001b[0m \u001b[1;34m'klot'\u001b[0m\u001b[1;33m\u001b[0m\u001b[0m\n\u001b[0;32m      2\u001b[0m \u001b[0mf\u001b[0m \u001b[1;33m=\u001b[0m \u001b[0mplt\u001b[0m\u001b[1;33m.\u001b[0m\u001b[0mfigure\u001b[0m\u001b[1;33m(\u001b[0m\u001b[0mfigsize\u001b[0m \u001b[1;33m=\u001b[0m \u001b[1;33m[\u001b[0m\u001b[1;36m24\u001b[0m\u001b[1;33m,\u001b[0m\u001b[1;36m9\u001b[0m\u001b[1;33m]\u001b[0m\u001b[1;33m)\u001b[0m\u001b[1;33m\u001b[0m\u001b[0m\n\u001b[1;32m----> 3\u001b[1;33m \u001b[0mdisplay\u001b[0m \u001b[1;33m=\u001b[0m \u001b[0mpyart\u001b[0m\u001b[1;33m.\u001b[0m\u001b[0mgraph\u001b[0m\u001b[1;33m.\u001b[0m\u001b[0mRadarMapDisplay\u001b[0m\u001b[1;33m(\u001b[0m\u001b[0mradar\u001b[0m\u001b[1;33m)\u001b[0m\u001b[1;33m\u001b[0m\u001b[0m\n\u001b[0m\u001b[0;32m      4\u001b[0m display.plot_ppi_map(\n\u001b[0;32m      5\u001b[0m     \u001b[1;34m'reflectivity'\u001b[0m\u001b[1;33m,\u001b[0m \u001b[0mvmin\u001b[0m\u001b[1;33m=\u001b[0m\u001b[1;33m-\u001b[0m\u001b[1;36m32\u001b[0m\u001b[1;33m,\u001b[0m \u001b[0mvmax\u001b[0m\u001b[1;33m=\u001b[0m\u001b[1;36m80\u001b[0m\u001b[1;33m,\u001b[0m \u001b[0mcmap\u001b[0m\u001b[1;33m=\u001b[0m\u001b[1;34m'pyart_NWSRef'\u001b[0m\u001b[1;33m,\u001b[0m\u001b[1;33m\u001b[0m\u001b[0m\n",
      "\u001b[1;31mNameError\u001b[0m: name 'radar' is not defined"
     ]
    },
    {
     "data": {
      "text/plain": [
       "<matplotlib.figure.Figure at 0x26746ea5358>"
      ]
     },
     "metadata": {},
     "output_type": "display_data"
    }
   ],
   "source": [
    "nexrad_site = 'klot'\n",
    "f = plt.figure(figsize = [24,9])\n",
    "display = pyart.graph.RadarMapDisplay(radar)\n",
    "display.plot_ppi_map(\n",
    "    'reflectivity', vmin=-32, vmax=80, cmap='pyart_NWSRef',\n",
    "    resolution='i', embelish=False)\n",
    "display.basemap.drawcounties()\n",
    "display.plot_crosshairs(lon=-87.5987, lat=41.7886)"
   ]
  },
  {
   "cell_type": "code",
   "execution_count": 21,
   "metadata": {
    "collapsed": false
   },
   "outputs": [
    {
     "name": "stderr",
     "output_type": "stream",
     "text": [
      "C:\\Users\\Andrew\\Anaconda3\\lib\\site-packages\\matplotlib\\figure.py:397: UserWarning: matplotlib is currently using a non-GUI backend, so cannot show the figure\n",
      "  \"matplotlib is currently using a non-GUI backend, \"\n"
     ]
    },
    {
     "data": {
      "image/png": "[encoded data removed]",
      "text/plain": [
       "<matplotlib.figure.Figure at 0x26746ed8f98>"
      ]
     },
     "metadata": {},
     "output_type": "display_data"
    }
   ],
   "source": [
    "import numpy as np\n",
    "import matplotlib.pyplot as plt\n",
    "import matplotlib.colors as colors\n",
    "from matplotlib.mlab import bivariate_normal\n",
    "\n",
    "'''\n",
    "Lognorm: Instead of pcolor log10(Z1) you can have colorbars that have\n",
    "the exponential labels using a norm.\n",
    "'''\n",
    "N = 100\n",
    "X, Y = np.mgrid[-3:3:complex(0, N), -2:2:complex(0, N)]\n",
    "\n",
    "# A low hump with a spike coming out of the top right.  Needs to have\n",
    "# z/colour axis on a log scale so we see both hump and spike.  linear\n",
    "# scale only shows the spike.\n",
    "Z1 = bivariate_normal(X, Y, 0.1, 0.2, 1.0, 1.0) +  \\\n",
    "    0.1 * bivariate_normal(X, Y, 1.0, 1.0, 0.0, 0.0)\n",
    "\n",
    "fig, ax = plt.subplots(2, 1)\n",
    "\n",
    "pcm = ax[0].pcolor(X, Y, Z1,\n",
    "                   norm=colors.LogNorm(vmin=Z1.min(), vmax=Z1.max()),\n",
    "                   cmap='PuBu_r')\n",
    "fig.colorbar(pcm, ax=ax[0], extend='max')\n",
    "\n",
    "pcm = ax[1].pcolor(X, Y, Z1, cmap='PuBu_r')\n",
    "fig.colorbar(pcm, ax=ax[1], extend='max')\n",
    "fig.show()"
   ]
  },
  {
   "cell_type": "code",
   "execution_count": 22,
   "metadata": {
    "collapsed": false
   },
   "outputs": [
    {
     "ename": "NameError",
     "evalue": "name 'etree' is not defined",
     "output_type": "error",
     "traceback": [
      "\u001b[1;31m---------------------------------------------------------------------------\u001b[0m",
      "\u001b[1;31mNameError\u001b[0m                                 Traceback (most recent call last)",
      "\u001b[1;32m<ipython-input-22-3992f40908cf>\u001b[0m in \u001b[0;36m<module>\u001b[1;34m()\u001b[0m\n\u001b[1;32m----> 1\u001b[1;33m \u001b[0mtree\u001b[0m \u001b[1;33m=\u001b[0m \u001b[0metree\u001b[0m\u001b[1;33m.\u001b[0m\u001b[0mparse\u001b[0m\u001b[1;33m(\u001b[0m\u001b[1;34m\"data/london_20131229.xml\"\u001b[0m\u001b[1;33m)\u001b[0m\u001b[1;33m\u001b[0m\u001b[0m\n\u001b[0m\u001b[0;32m      2\u001b[0m \u001b[0mroot\u001b[0m \u001b[1;33m=\u001b[0m \u001b[0mtree\u001b[0m\u001b[1;33m.\u001b[0m\u001b[0mgetroot\u001b[0m\u001b[1;33m(\u001b[0m\u001b[1;33m)\u001b[0m\u001b[1;33m\u001b[0m\u001b[0m\n\u001b[0;32m      3\u001b[0m \u001b[1;33m\u001b[0m\u001b[0m\n\u001b[0;32m      4\u001b[0m \u001b[0moutput\u001b[0m \u001b[1;33m=\u001b[0m \u001b[0mdict\u001b[0m\u001b[1;33m(\u001b[0m\u001b[1;33m)\u001b[0m\u001b[1;33m\u001b[0m\u001b[0m\n\u001b[0;32m      5\u001b[0m \u001b[0moutput\u001b[0m\u001b[1;33m[\u001b[0m\u001b[1;34m'raw'\u001b[0m\u001b[1;33m]\u001b[0m \u001b[1;33m=\u001b[0m \u001b[1;33m[\u001b[0m\u001b[1;33m]\u001b[0m\u001b[1;33m\u001b[0m\u001b[0m\n",
      "\u001b[1;31mNameError\u001b[0m: name 'etree' is not defined"
     ]
    }
   ],
   "source": [
    "tree = etree.parse(\"data/london_20131229.xml\")\n",
    "root = tree.getroot()\n",
    "\n",
    "output = dict()\n",
    "output['raw'] = []\n",
    "output['crs'] = []\n",
    "output['lon'] = []\n",
    "output['lat'] = []\n",
    "\n",
    "for each in root.xpath('/openplaques/plaque/geo'):\n",
    "    # check what we got back\n",
    "    output['crs'].append(each.get('reference_system'))\n",
    "    output['lon'].append(each.get('longitude'))\n",
    "    output['lat'].append(each.get('latitude'))\n",
    "    # now go back up to plaque\n",
    "    r = each.getparent().xpath('inscription/raw')[0]\n",
    "    if isinstance(r.text, str):\n",
    "        output['raw'].append(r.text.lstrip().rstrip())\n",
    "    else:\n",
    "        output['raw'].append(None)"
   ]
  },
  {
   "cell_type": "code",
   "execution_count": null,
   "metadata": {
    "collapsed": true
   },
   "outputs": [],
   "source": []
  }
 ],
 "metadata": {
  "kernelspec": {
   "display_name": "Python 3",
   "language": "python",
   "name": "python3"
  },
  "language_info": {
   "codemirror_mode": {
    "name": "ipython",
    "version": 3
   },
   "file_extension": ".py",
   "mimetype": "text/x-python",
   "name": "python",
   "nbconvert_exporter": "python",
   "pygments_lexer": "ipython3",
   "version": "3.5.1"
  }
 },
 "nbformat": 4,
 "nbformat_minor": 0
}
